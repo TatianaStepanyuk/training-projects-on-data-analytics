{
 "cells": [
  {
   "cell_type": "markdown",
   "metadata": {},
   "source": [
    "# Приоритизация гипотез и анализ А/В теста для интернет-магазина"
   ]
  },
  {
   "cell_type": "markdown",
   "metadata": {},
   "source": [
    "# Описание проекта\n",
    "\n",
    "В нашем распоряжении данные крупного интернет-магазина, в том числе список гипотез для увеличения выручки.\n",
    "Для принятия решений нам необходимо приоритизировать гипотезы,а так же проанализировать результаты A/B-теста.\n",
    "\n",
    "# Описание данных\n",
    "**Данные для первой части**\n",
    "\n",
    "Файл /datasets/hypothesis.csv.\n",
    "* Hypothesis — краткое описание гипотезы;\n",
    "* Reach — охват пользователей по 10-балльной шкале;\n",
    "* Impact — влияние на пользователей по 10-балльной шкале;\n",
    "* Confidence — уверенность в гипотезе по 10-балльной шкале;\n",
    "* Efforts — затраты ресурсов на проверку гипотезы по 10-балльной шкале. Чем больше значение Efforts, тем дороже проверка гипотезы.\n",
    "\n",
    "**Данные для второй части**\n",
    "\n",
    "Файл /datasets/orders.csv. \n",
    "* transactionId — идентификатор заказа;\n",
    "* visitorId — идентификатор пользователя, совершившего заказ;\n",
    "* date — дата, когда был совершён заказ;\n",
    "* revenue — выручка заказа;\n",
    "* group — группа A/B-теста, в которую попал заказ.\n",
    "\n",
    "Файл /datasets/visitors.csv.\n",
    "* date — дата;\n",
    "* group — группа A/B-теста;\n",
    "* visitors — количество пользователей в указанную дату в указанной группе A/B-теста\n"
   ]
  },
  {
   "cell_type": "code",
   "execution_count": 1,
   "metadata": {},
   "outputs": [],
   "source": [
    "import pandas as pd\n",
    "import datetime as dt\n",
    "import scipy.stats as stats\n",
    "import numpy as np\n",
    "import matplotlib.pyplot as plt\n",
    "from pandas.plotting import register_matplotlib_converters\n",
    "import warnings\n",
    "# конвертеры, которые позволяют использовать типы pandas в matplotlib  \n",
    "register_matplotlib_converters()"
   ]
  },
  {
   "cell_type": "markdown",
   "metadata": {},
   "source": [
    "## Приоритизация гипотез.\n"
   ]
  },
  {
   "cell_type": "code",
   "execution_count": 2,
   "metadata": {},
   "outputs": [
    {
     "name": "stdout",
     "output_type": "stream",
     "text": [
      "<class 'pandas.core.frame.DataFrame'>\n",
      "RangeIndex: 9 entries, 0 to 8\n",
      "Data columns (total 5 columns):\n",
      " #   Column      Non-Null Count  Dtype \n",
      "---  ------      --------------  ----- \n",
      " 0   Hypothesis  9 non-null      object\n",
      " 1   Reach       9 non-null      int64 \n",
      " 2   Impact      9 non-null      int64 \n",
      " 3   Confidence  9 non-null      int64 \n",
      " 4   Efforts     9 non-null      int64 \n",
      "dtypes: int64(4), object(1)\n",
      "memory usage: 488.0+ bytes\n"
     ]
    }
   ],
   "source": [
    "data = pd.read_csv('/datasets/hypothesis.csv')\n",
    "data.info()"
   ]
  },
  {
   "cell_type": "code",
   "execution_count": 3,
   "metadata": {},
   "outputs": [
    {
     "data": {
      "text/html": [
       "<div>\n",
       "<style scoped>\n",
       "    .dataframe tbody tr th:only-of-type {\n",
       "        vertical-align: middle;\n",
       "    }\n",
       "\n",
       "    .dataframe tbody tr th {\n",
       "        vertical-align: top;\n",
       "    }\n",
       "\n",
       "    .dataframe thead th {\n",
       "        text-align: right;\n",
       "    }\n",
       "</style>\n",
       "<table border=\"1\" class=\"dataframe\">\n",
       "  <thead>\n",
       "    <tr style=\"text-align: right;\">\n",
       "      <th></th>\n",
       "      <th>hypothesis</th>\n",
       "      <th>reach</th>\n",
       "      <th>impact</th>\n",
       "      <th>confidence</th>\n",
       "      <th>efforts</th>\n",
       "    </tr>\n",
       "  </thead>\n",
       "  <tbody>\n",
       "    <tr>\n",
       "      <th>0</th>\n",
       "      <td>Добавить два новых канала привлечения трафика, что позволит привлекать на 30% больше пользователей</td>\n",
       "      <td>3</td>\n",
       "      <td>10</td>\n",
       "      <td>8</td>\n",
       "      <td>6</td>\n",
       "    </tr>\n",
       "    <tr>\n",
       "      <th>1</th>\n",
       "      <td>Запустить собственную службу доставки, что сократит срок доставки заказов</td>\n",
       "      <td>2</td>\n",
       "      <td>5</td>\n",
       "      <td>4</td>\n",
       "      <td>10</td>\n",
       "    </tr>\n",
       "    <tr>\n",
       "      <th>2</th>\n",
       "      <td>Добавить блоки рекомендаций товаров на сайт интернет магазина, чтобы повысить конверсию и средний чек заказа</td>\n",
       "      <td>8</td>\n",
       "      <td>3</td>\n",
       "      <td>7</td>\n",
       "      <td>3</td>\n",
       "    </tr>\n",
       "    <tr>\n",
       "      <th>3</th>\n",
       "      <td>Изменить структура категорий, что увеличит конверсию, т.к. пользователи быстрее найдут нужный товар</td>\n",
       "      <td>8</td>\n",
       "      <td>3</td>\n",
       "      <td>3</td>\n",
       "      <td>8</td>\n",
       "    </tr>\n",
       "    <tr>\n",
       "      <th>4</th>\n",
       "      <td>Изменить цвет фона главной страницы, чтобы увеличить вовлеченность пользователей</td>\n",
       "      <td>3</td>\n",
       "      <td>1</td>\n",
       "      <td>1</td>\n",
       "      <td>1</td>\n",
       "    </tr>\n",
       "    <tr>\n",
       "      <th>5</th>\n",
       "      <td>Добавить страницу отзывов клиентов о магазине, что позволит увеличить количество заказов</td>\n",
       "      <td>3</td>\n",
       "      <td>2</td>\n",
       "      <td>2</td>\n",
       "      <td>3</td>\n",
       "    </tr>\n",
       "    <tr>\n",
       "      <th>6</th>\n",
       "      <td>Показать на главной странице баннеры с актуальными акциями и распродажами, чтобы увеличить конверсию</td>\n",
       "      <td>5</td>\n",
       "      <td>3</td>\n",
       "      <td>8</td>\n",
       "      <td>3</td>\n",
       "    </tr>\n",
       "    <tr>\n",
       "      <th>7</th>\n",
       "      <td>Добавить форму подписки на все основные страницы, чтобы собрать базу клиентов для email-рассылок</td>\n",
       "      <td>10</td>\n",
       "      <td>7</td>\n",
       "      <td>8</td>\n",
       "      <td>5</td>\n",
       "    </tr>\n",
       "    <tr>\n",
       "      <th>8</th>\n",
       "      <td>Запустить акцию, дающую скидку на товар в день рождения</td>\n",
       "      <td>1</td>\n",
       "      <td>9</td>\n",
       "      <td>9</td>\n",
       "      <td>5</td>\n",
       "    </tr>\n",
       "  </tbody>\n",
       "</table>\n",
       "</div>"
      ],
      "text/plain": [
       "                                                                                                     hypothesis  \\\n",
       "0            Добавить два новых канала привлечения трафика, что позволит привлекать на 30% больше пользователей   \n",
       "1                                     Запустить собственную службу доставки, что сократит срок доставки заказов   \n",
       "2  Добавить блоки рекомендаций товаров на сайт интернет магазина, чтобы повысить конверсию и средний чек заказа   \n",
       "3           Изменить структура категорий, что увеличит конверсию, т.к. пользователи быстрее найдут нужный товар   \n",
       "4                              Изменить цвет фона главной страницы, чтобы увеличить вовлеченность пользователей   \n",
       "5                      Добавить страницу отзывов клиентов о магазине, что позволит увеличить количество заказов   \n",
       "6          Показать на главной странице баннеры с актуальными акциями и распродажами, чтобы увеличить конверсию   \n",
       "7              Добавить форму подписки на все основные страницы, чтобы собрать базу клиентов для email-рассылок   \n",
       "8                                                       Запустить акцию, дающую скидку на товар в день рождения   \n",
       "\n",
       "   reach  impact  confidence  efforts  \n",
       "0      3      10           8        6  \n",
       "1      2       5           4       10  \n",
       "2      8       3           7        3  \n",
       "3      8       3           3        8  \n",
       "4      3       1           1        1  \n",
       "5      3       2           2        3  \n",
       "6      5       3           8        3  \n",
       "7     10       7           8        5  \n",
       "8      1       9           9        5  "
      ]
     },
     "execution_count": 3,
     "metadata": {},
     "output_type": "execute_result"
    }
   ],
   "source": [
    "# Приведем названия столбцов к хорошему стилю (переведем наименования в нижний регистр)\n",
    "data.columns = data.columns.str.lower()\n",
    "pd.options.display.max_colwidth = 130\n",
    "data"
   ]
  },
  {
   "cell_type": "markdown",
   "metadata": {},
   "source": [
    "Чтобы провести приоритизацию гипотез будем использовать фреймворки ***ICE*** (от английского impact, confidence, effort / ease «влияние, уверенность, усилия / простота») и ***RICE*** - модификация метода ICE, при которой учитывается еще и охват пользователей (от английского reach, «охват»)."
   ]
  },
  {
   "cell_type": "markdown",
   "metadata": {},
   "source": [
    "### Применим фреймворк ICE для приоритизации гипотез."
   ]
  },
  {
   "cell_type": "code",
   "execution_count": 4,
   "metadata": {},
   "outputs": [
    {
     "data": {
      "text/html": [
       "<div>\n",
       "<style scoped>\n",
       "    .dataframe tbody tr th:only-of-type {\n",
       "        vertical-align: middle;\n",
       "    }\n",
       "\n",
       "    .dataframe tbody tr th {\n",
       "        vertical-align: top;\n",
       "    }\n",
       "\n",
       "    .dataframe thead th {\n",
       "        text-align: right;\n",
       "    }\n",
       "</style>\n",
       "<table border=\"1\" class=\"dataframe\">\n",
       "  <thead>\n",
       "    <tr style=\"text-align: right;\">\n",
       "      <th></th>\n",
       "      <th>hypothesis</th>\n",
       "      <th>ICE</th>\n",
       "    </tr>\n",
       "  </thead>\n",
       "  <tbody>\n",
       "    <tr>\n",
       "      <th>8</th>\n",
       "      <td>Запустить акцию, дающую скидку на товар в день рождения</td>\n",
       "      <td>16.20</td>\n",
       "    </tr>\n",
       "    <tr>\n",
       "      <th>0</th>\n",
       "      <td>Добавить два новых канала привлечения трафика, что позволит привлекать на 30% больше пользователей</td>\n",
       "      <td>13.33</td>\n",
       "    </tr>\n",
       "    <tr>\n",
       "      <th>7</th>\n",
       "      <td>Добавить форму подписки на все основные страницы, чтобы собрать базу клиентов для email-рассылок</td>\n",
       "      <td>11.20</td>\n",
       "    </tr>\n",
       "    <tr>\n",
       "      <th>6</th>\n",
       "      <td>Показать на главной странице баннеры с актуальными акциями и распродажами, чтобы увеличить конверсию</td>\n",
       "      <td>8.00</td>\n",
       "    </tr>\n",
       "    <tr>\n",
       "      <th>2</th>\n",
       "      <td>Добавить блоки рекомендаций товаров на сайт интернет магазина, чтобы повысить конверсию и средний чек заказа</td>\n",
       "      <td>7.00</td>\n",
       "    </tr>\n",
       "    <tr>\n",
       "      <th>1</th>\n",
       "      <td>Запустить собственную службу доставки, что сократит срок доставки заказов</td>\n",
       "      <td>2.00</td>\n",
       "    </tr>\n",
       "    <tr>\n",
       "      <th>5</th>\n",
       "      <td>Добавить страницу отзывов клиентов о магазине, что позволит увеличить количество заказов</td>\n",
       "      <td>1.33</td>\n",
       "    </tr>\n",
       "    <tr>\n",
       "      <th>3</th>\n",
       "      <td>Изменить структура категорий, что увеличит конверсию, т.к. пользователи быстрее найдут нужный товар</td>\n",
       "      <td>1.12</td>\n",
       "    </tr>\n",
       "    <tr>\n",
       "      <th>4</th>\n",
       "      <td>Изменить цвет фона главной страницы, чтобы увеличить вовлеченность пользователей</td>\n",
       "      <td>1.00</td>\n",
       "    </tr>\n",
       "  </tbody>\n",
       "</table>\n",
       "</div>"
      ],
      "text/plain": [
       "                                                                                                     hypothesis  \\\n",
       "8                                                       Запустить акцию, дающую скидку на товар в день рождения   \n",
       "0            Добавить два новых канала привлечения трафика, что позволит привлекать на 30% больше пользователей   \n",
       "7              Добавить форму подписки на все основные страницы, чтобы собрать базу клиентов для email-рассылок   \n",
       "6          Показать на главной странице баннеры с актуальными акциями и распродажами, чтобы увеличить конверсию   \n",
       "2  Добавить блоки рекомендаций товаров на сайт интернет магазина, чтобы повысить конверсию и средний чек заказа   \n",
       "1                                     Запустить собственную службу доставки, что сократит срок доставки заказов   \n",
       "5                      Добавить страницу отзывов клиентов о магазине, что позволит увеличить количество заказов   \n",
       "3           Изменить структура категорий, что увеличит конверсию, т.к. пользователи быстрее найдут нужный товар   \n",
       "4                              Изменить цвет фона главной страницы, чтобы увеличить вовлеченность пользователей   \n",
       "\n",
       "     ICE  \n",
       "8  16.20  \n",
       "0  13.33  \n",
       "7  11.20  \n",
       "6   8.00  \n",
       "2   7.00  \n",
       "1   2.00  \n",
       "5   1.33  \n",
       "3   1.12  \n",
       "4   1.00  "
      ]
     },
     "execution_count": 4,
     "metadata": {},
     "output_type": "execute_result"
    }
   ],
   "source": [
    "data['ICE'] = round(data['impact']*data['confidence']/data['efforts'], 2)\n",
    "# отсортируем их по убыванию приоритета и выведем столбцы с гипотезами и ICE\n",
    "data[['hypothesis', 'ICE']].sort_values(by='ICE', ascending=False)"
   ]
  },
  {
   "cell_type": "markdown",
   "metadata": {},
   "source": [
    "Видим, что самый высокий ICE у гипотезы 9 - \"Запустить акцию, дающую скидку на товар в день рождения\", далее идут гипотезы 1 - \"Добавить два новых канала привлечения трафика, что позволит привлекать на 30% больше пользователей\" и 8 - \"Добавить форму подписки на все основные страницы, чтобы собрать базу клиентов для email-рассылок\".  "
   ]
  },
  {
   "cell_type": "markdown",
   "metadata": {},
   "source": [
    "### Применим фреймворк RICE для приоритизации гипотез. "
   ]
  },
  {
   "cell_type": "code",
   "execution_count": 5,
   "metadata": {},
   "outputs": [
    {
     "data": {
      "text/html": [
       "<div>\n",
       "<style scoped>\n",
       "    .dataframe tbody tr th:only-of-type {\n",
       "        vertical-align: middle;\n",
       "    }\n",
       "\n",
       "    .dataframe tbody tr th {\n",
       "        vertical-align: top;\n",
       "    }\n",
       "\n",
       "    .dataframe thead th {\n",
       "        text-align: right;\n",
       "    }\n",
       "</style>\n",
       "<table border=\"1\" class=\"dataframe\">\n",
       "  <thead>\n",
       "    <tr style=\"text-align: right;\">\n",
       "      <th></th>\n",
       "      <th>hypothesis</th>\n",
       "      <th>RICE</th>\n",
       "    </tr>\n",
       "  </thead>\n",
       "  <tbody>\n",
       "    <tr>\n",
       "      <th>7</th>\n",
       "      <td>Добавить форму подписки на все основные страницы, чтобы собрать базу клиентов для email-рассылок</td>\n",
       "      <td>112.0</td>\n",
       "    </tr>\n",
       "    <tr>\n",
       "      <th>2</th>\n",
       "      <td>Добавить блоки рекомендаций товаров на сайт интернет магазина, чтобы повысить конверсию и средний чек заказа</td>\n",
       "      <td>56.0</td>\n",
       "    </tr>\n",
       "    <tr>\n",
       "      <th>0</th>\n",
       "      <td>Добавить два новых канала привлечения трафика, что позволит привлекать на 30% больше пользователей</td>\n",
       "      <td>40.0</td>\n",
       "    </tr>\n",
       "    <tr>\n",
       "      <th>6</th>\n",
       "      <td>Показать на главной странице баннеры с актуальными акциями и распродажами, чтобы увеличить конверсию</td>\n",
       "      <td>40.0</td>\n",
       "    </tr>\n",
       "    <tr>\n",
       "      <th>8</th>\n",
       "      <td>Запустить акцию, дающую скидку на товар в день рождения</td>\n",
       "      <td>16.2</td>\n",
       "    </tr>\n",
       "    <tr>\n",
       "      <th>3</th>\n",
       "      <td>Изменить структура категорий, что увеличит конверсию, т.к. пользователи быстрее найдут нужный товар</td>\n",
       "      <td>9.0</td>\n",
       "    </tr>\n",
       "    <tr>\n",
       "      <th>1</th>\n",
       "      <td>Запустить собственную службу доставки, что сократит срок доставки заказов</td>\n",
       "      <td>4.0</td>\n",
       "    </tr>\n",
       "    <tr>\n",
       "      <th>5</th>\n",
       "      <td>Добавить страницу отзывов клиентов о магазине, что позволит увеличить количество заказов</td>\n",
       "      <td>4.0</td>\n",
       "    </tr>\n",
       "    <tr>\n",
       "      <th>4</th>\n",
       "      <td>Изменить цвет фона главной страницы, чтобы увеличить вовлеченность пользователей</td>\n",
       "      <td>3.0</td>\n",
       "    </tr>\n",
       "  </tbody>\n",
       "</table>\n",
       "</div>"
      ],
      "text/plain": [
       "                                                                                                     hypothesis  \\\n",
       "7              Добавить форму подписки на все основные страницы, чтобы собрать базу клиентов для email-рассылок   \n",
       "2  Добавить блоки рекомендаций товаров на сайт интернет магазина, чтобы повысить конверсию и средний чек заказа   \n",
       "0            Добавить два новых канала привлечения трафика, что позволит привлекать на 30% больше пользователей   \n",
       "6          Показать на главной странице баннеры с актуальными акциями и распродажами, чтобы увеличить конверсию   \n",
       "8                                                       Запустить акцию, дающую скидку на товар в день рождения   \n",
       "3           Изменить структура категорий, что увеличит конверсию, т.к. пользователи быстрее найдут нужный товар   \n",
       "1                                     Запустить собственную службу доставки, что сократит срок доставки заказов   \n",
       "5                      Добавить страницу отзывов клиентов о магазине, что позволит увеличить количество заказов   \n",
       "4                              Изменить цвет фона главной страницы, чтобы увеличить вовлеченность пользователей   \n",
       "\n",
       "    RICE  \n",
       "7  112.0  \n",
       "2   56.0  \n",
       "0   40.0  \n",
       "6   40.0  \n",
       "8   16.2  \n",
       "3    9.0  \n",
       "1    4.0  \n",
       "5    4.0  \n",
       "4    3.0  "
      ]
     },
     "execution_count": 5,
     "metadata": {},
     "output_type": "execute_result"
    }
   ],
   "source": [
    "data['RICE'] = data['reach']*data['impact']*data['confidence']/data['efforts']\n",
    "# отсортируем их по убыванию приоритета и выведем столбцы с гипотезами и RICE\n",
    "data[['hypothesis', 'RICE']].sort_values(by='RICE', ascending=False)"
   ]
  },
  {
   "cell_type": "markdown",
   "metadata": {},
   "source": [
    "Здесь уже другая картина: лидирует гипотеза 8 - \"Добавить форму подписки на все основные страницы, чтобы собрать базу клиентов для email-рассылок\" (3-е место по величине ICE), на втором месте гипотеза 3 - \"Добавить блоки рекомендаций товаров на сайт интернет магазина, чтобы повысить конверсию и средний чек заказа\t\", при этом отрыв от лидера 100%.\n",
    "Такое значение получилось, потому что уровень reach\t8 гипотезы 10 баллов - максимально возможное."
   ]
  },
  {
   "cell_type": "code",
   "execution_count": 6,
   "metadata": {},
   "outputs": [
    {
     "data": {
      "text/html": [
       "<div>\n",
       "<style scoped>\n",
       "    .dataframe tbody tr th:only-of-type {\n",
       "        vertical-align: middle;\n",
       "    }\n",
       "\n",
       "    .dataframe tbody tr th {\n",
       "        vertical-align: top;\n",
       "    }\n",
       "\n",
       "    .dataframe thead th {\n",
       "        text-align: right;\n",
       "    }\n",
       "</style>\n",
       "<table border=\"1\" class=\"dataframe\">\n",
       "  <thead>\n",
       "    <tr style=\"text-align: right;\">\n",
       "      <th></th>\n",
       "      <th>hypothesis</th>\n",
       "      <th>ICE</th>\n",
       "      <th>RICE</th>\n",
       "    </tr>\n",
       "  </thead>\n",
       "  <tbody>\n",
       "    <tr>\n",
       "      <th>0</th>\n",
       "      <td>Добавить два новых канала привлечения трафика, что позволит привлекать на 30% больше пользователей</td>\n",
       "      <td>13.33</td>\n",
       "      <td>40.0</td>\n",
       "    </tr>\n",
       "    <tr>\n",
       "      <th>1</th>\n",
       "      <td>Запустить собственную службу доставки, что сократит срок доставки заказов</td>\n",
       "      <td>2.00</td>\n",
       "      <td>4.0</td>\n",
       "    </tr>\n",
       "    <tr>\n",
       "      <th>2</th>\n",
       "      <td>Добавить блоки рекомендаций товаров на сайт интернет магазина, чтобы повысить конверсию и средний чек заказа</td>\n",
       "      <td>7.00</td>\n",
       "      <td>56.0</td>\n",
       "    </tr>\n",
       "    <tr>\n",
       "      <th>3</th>\n",
       "      <td>Изменить структура категорий, что увеличит конверсию, т.к. пользователи быстрее найдут нужный товар</td>\n",
       "      <td>1.12</td>\n",
       "      <td>9.0</td>\n",
       "    </tr>\n",
       "    <tr>\n",
       "      <th>4</th>\n",
       "      <td>Изменить цвет фона главной страницы, чтобы увеличить вовлеченность пользователей</td>\n",
       "      <td>1.00</td>\n",
       "      <td>3.0</td>\n",
       "    </tr>\n",
       "    <tr>\n",
       "      <th>5</th>\n",
       "      <td>Добавить страницу отзывов клиентов о магазине, что позволит увеличить количество заказов</td>\n",
       "      <td>1.33</td>\n",
       "      <td>4.0</td>\n",
       "    </tr>\n",
       "    <tr>\n",
       "      <th>6</th>\n",
       "      <td>Показать на главной странице баннеры с актуальными акциями и распродажами, чтобы увеличить конверсию</td>\n",
       "      <td>8.00</td>\n",
       "      <td>40.0</td>\n",
       "    </tr>\n",
       "    <tr>\n",
       "      <th>7</th>\n",
       "      <td>Добавить форму подписки на все основные страницы, чтобы собрать базу клиентов для email-рассылок</td>\n",
       "      <td>11.20</td>\n",
       "      <td>112.0</td>\n",
       "    </tr>\n",
       "    <tr>\n",
       "      <th>8</th>\n",
       "      <td>Запустить акцию, дающую скидку на товар в день рождения</td>\n",
       "      <td>16.20</td>\n",
       "      <td>16.2</td>\n",
       "    </tr>\n",
       "  </tbody>\n",
       "</table>\n",
       "</div>"
      ],
      "text/plain": [
       "                                                                                                     hypothesis  \\\n",
       "0            Добавить два новых канала привлечения трафика, что позволит привлекать на 30% больше пользователей   \n",
       "1                                     Запустить собственную службу доставки, что сократит срок доставки заказов   \n",
       "2  Добавить блоки рекомендаций товаров на сайт интернет магазина, чтобы повысить конверсию и средний чек заказа   \n",
       "3           Изменить структура категорий, что увеличит конверсию, т.к. пользователи быстрее найдут нужный товар   \n",
       "4                              Изменить цвет фона главной страницы, чтобы увеличить вовлеченность пользователей   \n",
       "5                      Добавить страницу отзывов клиентов о магазине, что позволит увеличить количество заказов   \n",
       "6          Показать на главной странице баннеры с актуальными акциями и распродажами, чтобы увеличить конверсию   \n",
       "7              Добавить форму подписки на все основные страницы, чтобы собрать базу клиентов для email-рассылок   \n",
       "8                                                       Запустить акцию, дающую скидку на товар в день рождения   \n",
       "\n",
       "     ICE   RICE  \n",
       "0  13.33   40.0  \n",
       "1   2.00    4.0  \n",
       "2   7.00   56.0  \n",
       "3   1.12    9.0  \n",
       "4   1.00    3.0  \n",
       "5   1.33    4.0  \n",
       "6   8.00   40.0  \n",
       "7  11.20  112.0  \n",
       "8  16.20   16.2  "
      ]
     },
     "execution_count": 6,
     "metadata": {},
     "output_type": "execute_result"
    }
   ],
   "source": [
    "# выведем все полученные данные в одной таблице\n",
    "data = data[['hypothesis', 'ICE', 'RICE']]\n",
    "data"
   ]
  },
  {
   "cell_type": "markdown",
   "metadata": {},
   "source": [
    "## Анализ А/В-теста"
   ]
  },
  {
   "cell_type": "markdown",
   "metadata": {},
   "source": [
    "### Рассмотрим данные и информацию о них."
   ]
  },
  {
   "cell_type": "code",
   "execution_count": 7,
   "metadata": {},
   "outputs": [],
   "source": [
    "visitors, orders = (pd.read_csv('/datasets/visitors.csv'),\n",
    "                   pd.read_csv('/datasets/orders.csv'))"
   ]
  },
  {
   "cell_type": "markdown",
   "metadata": {},
   "source": [
    "Для начала рассмотрим информацию о данных и сами данные."
   ]
  },
  {
   "cell_type": "code",
   "execution_count": 8,
   "metadata": {},
   "outputs": [],
   "source": [
    "# Создадим функцию для вывода информации о датафреймах\n",
    "def information (name):\n",
    "    return name.info(), 'Пропуски данных:', name.isna().sum(), 'Дубликаты:', name.duplicated().sum(), name.head()"
   ]
  },
  {
   "cell_type": "code",
   "execution_count": 9,
   "metadata": {},
   "outputs": [
    {
     "name": "stdout",
     "output_type": "stream",
     "text": [
      "<class 'pandas.core.frame.DataFrame'>\n",
      "RangeIndex: 62 entries, 0 to 61\n",
      "Data columns (total 3 columns):\n",
      " #   Column    Non-Null Count  Dtype \n",
      "---  ------    --------------  ----- \n",
      " 0   date      62 non-null     object\n",
      " 1   group     62 non-null     object\n",
      " 2   visitors  62 non-null     int64 \n",
      "dtypes: int64(1), object(2)\n",
      "memory usage: 1.6+ KB\n"
     ]
    },
    {
     "data": {
      "text/plain": [
       "(None,\n",
       " 'Пропуски данных:',\n",
       " date        0\n",
       " group       0\n",
       " visitors    0\n",
       " dtype: int64,\n",
       " 'Дубликаты:',\n",
       " 0,\n",
       "          date group  visitors\n",
       " 0  2019-08-01     A       719\n",
       " 1  2019-08-02     A       619\n",
       " 2  2019-08-03     A       507\n",
       " 3  2019-08-04     A       717\n",
       " 4  2019-08-05     A       756)"
      ]
     },
     "execution_count": 9,
     "metadata": {},
     "output_type": "execute_result"
    }
   ],
   "source": [
    "information(visitors)"
   ]
  },
  {
   "cell_type": "code",
   "execution_count": 10,
   "metadata": {},
   "outputs": [
    {
     "name": "stdout",
     "output_type": "stream",
     "text": [
      "<class 'pandas.core.frame.DataFrame'>\n",
      "RangeIndex: 1197 entries, 0 to 1196\n",
      "Data columns (total 5 columns):\n",
      " #   Column         Non-Null Count  Dtype \n",
      "---  ------         --------------  ----- \n",
      " 0   transactionId  1197 non-null   int64 \n",
      " 1   visitorId      1197 non-null   int64 \n",
      " 2   date           1197 non-null   object\n",
      " 3   revenue        1197 non-null   int64 \n",
      " 4   group          1197 non-null   object\n",
      "dtypes: int64(3), object(2)\n",
      "memory usage: 46.9+ KB\n"
     ]
    },
    {
     "data": {
      "text/plain": [
       "(None,\n",
       " 'Пропуски данных:',\n",
       " transactionId    0\n",
       " visitorId        0\n",
       " date             0\n",
       " revenue          0\n",
       " group            0\n",
       " dtype: int64,\n",
       " 'Дубликаты:',\n",
       " 0,\n",
       "    transactionId   visitorId        date  revenue group\n",
       " 0     3667963787  3312258926  2019-08-15     1650     B\n",
       " 1     2804400009  3642806036  2019-08-15      730     B\n",
       " 2     2961555356  4069496402  2019-08-15      400     A\n",
       " 3     3797467345  1196621759  2019-08-15     9759     B\n",
       " 4     2282983706  2322279887  2019-08-15     2308     B)"
      ]
     },
     "execution_count": 10,
     "metadata": {},
     "output_type": "execute_result"
    }
   ],
   "source": [
    "information(orders)"
   ]
  },
  {
   "cell_type": "markdown",
   "metadata": {},
   "source": [
    "Видим, что типы данных верные, дубликатов и пропусков нет, наименования столбцов соответствуют хорошему стилю."
   ]
  },
  {
   "cell_type": "markdown",
   "metadata": {},
   "source": [
    "### Подготовим данные для проведения А/В-теста"
   ]
  },
  {
   "cell_type": "code",
   "execution_count": 11,
   "metadata": {},
   "outputs": [],
   "source": [
    "# приведем дату к нужному виду\n",
    "orders['date'] = orders['date'].map(\n",
    "    lambda x: dt.datetime.strptime(x, '%Y-%m-%d')\n",
    ")\n",
    "visitors['date'] = visitors['date'].map(\n",
    "    lambda x: dt.datetime.strptime(x, '%Y-%m-%d')\n",
    ")"
   ]
  },
  {
   "cell_type": "code",
   "execution_count": 12,
   "metadata": {},
   "outputs": [
    {
     "data": {
      "text/html": [
       "<div>\n",
       "<style scoped>\n",
       "    .dataframe tbody tr th:only-of-type {\n",
       "        vertical-align: middle;\n",
       "    }\n",
       "\n",
       "    .dataframe tbody tr th {\n",
       "        vertical-align: top;\n",
       "    }\n",
       "\n",
       "    .dataframe thead th {\n",
       "        text-align: right;\n",
       "    }\n",
       "</style>\n",
       "<table border=\"1\" class=\"dataframe\">\n",
       "  <thead>\n",
       "    <tr style=\"text-align: right;\">\n",
       "      <th></th>\n",
       "      <th>visitorId</th>\n",
       "    </tr>\n",
       "    <tr>\n",
       "      <th>group</th>\n",
       "      <th></th>\n",
       "    </tr>\n",
       "  </thead>\n",
       "  <tbody>\n",
       "    <tr>\n",
       "      <th>A</th>\n",
       "      <td>503</td>\n",
       "    </tr>\n",
       "    <tr>\n",
       "      <th>B</th>\n",
       "      <td>586</td>\n",
       "    </tr>\n",
       "  </tbody>\n",
       "</table>\n",
       "</div>"
      ],
      "text/plain": [
       "       visitorId\n",
       "group           \n",
       "A            503\n",
       "B            586"
      ]
     },
     "execution_count": 12,
     "metadata": {},
     "output_type": "execute_result"
    }
   ],
   "source": [
    "# посчитаем количество пользователей в каждой группе\n",
    "groups = orders.groupby('group').agg({'visitorId': pd.Series.nunique})\n",
    "groups"
   ]
  },
  {
   "cell_type": "code",
   "execution_count": 13,
   "metadata": {},
   "outputs": [
    {
     "data": {
      "text/plain": [
       "visitorId    1089\n",
       "dtype: int64"
      ]
     },
     "execution_count": 13,
     "metadata": {},
     "output_type": "execute_result"
    }
   ],
   "source": [
    "groups.sum()"
   ]
  },
  {
   "cell_type": "code",
   "execution_count": 14,
   "metadata": {},
   "outputs": [
    {
     "data": {
      "text/plain": [
       "1031"
      ]
     },
     "execution_count": 14,
     "metadata": {},
     "output_type": "execute_result"
    }
   ],
   "source": [
    "# узнаем сколько у нас всего пользователей\n",
    "orders['visitorId'].nunique()\n"
   ]
  },
  {
   "cell_type": "markdown",
   "metadata": {},
   "source": [
    "Видим, что уникальных id 1031, а всего участников в группах 1089, из этого следует, что некоторые пользователи попали и в группу А, и в группу В. Для принятия решений по данным пользователям, посчитаем какой их процент."
   ]
  },
  {
   "cell_type": "code",
   "execution_count": 15,
   "metadata": {},
   "outputs": [
    {
     "data": {
      "text/plain": [
       "visitorId    0.056\n",
       "dtype: float64"
      ]
     },
     "execution_count": 15,
     "metadata": {},
     "output_type": "execute_result"
    }
   ],
   "source": [
    "round(groups.sum()/orders['visitorId'].nunique()-1, 3)"
   ]
  },
  {
   "cell_type": "markdown",
   "metadata": {},
   "source": [
    "5.6% пользователей попали в обе группы одновременно. Скорей всего это покупатели, которые совершили более одной покупки. Изучим данных пользователей позже, когда будим очищать наши данные от аномалий, а пока сохраним их Id в списке."
   ]
  },
  {
   "cell_type": "code",
   "execution_count": 16,
   "metadata": {},
   "outputs": [
    {
     "data": {
      "text/plain": [
       "[3957174400,\n",
       " 3984495233,\n",
       " 2780786433,\n",
       " 1294878855,\n",
       " 1648269707,\n",
       " 1614305549,\n",
       " 4120364173,\n",
       " 232979603,\n",
       " 199603092,\n",
       " 4266935830,\n",
       " 2712142231,\n",
       " 2587333274,\n",
       " 2716752286,\n",
       " 3891541246,\n",
       " 1668030113,\n",
       " 2654030115,\n",
       " 3234906277,\n",
       " 1230306981,\n",
       " 1404934699,\n",
       " 3803269165,\n",
       " 2949041841,\n",
       " 237748145,\n",
       " 457167155,\n",
       " 2927087541,\n",
       " 1738359350,\n",
       " 3062433592,\n",
       " 3656415546,\n",
       " 818047933,\n",
       " 393266494,\n",
       " 963407295,\n",
       " 471551937,\n",
       " 2579882178,\n",
       " 3202540741,\n",
       " 2686716486,\n",
       " 1333886533,\n",
       " 2044997962,\n",
       " 3941795274,\n",
       " 1801183820,\n",
       " 2378935119,\n",
       " 4256040402,\n",
       " 4069496402,\n",
       " 3766097110,\n",
       " 8300375,\n",
       " 351125977,\n",
       " 1602967004,\n",
       " 276558944,\n",
       " 2038680547,\n",
       " 3951559397,\n",
       " 3963646447,\n",
       " 4186807279,\n",
       " 3717692402,\n",
       " 1959144690,\n",
       " 2458001652,\n",
       " 2600415354,\n",
       " 2954449915,\n",
       " 1316129916,\n",
       " 477780734,\n",
       " 3972127743]"
      ]
     },
     "execution_count": 16,
     "metadata": {},
     "output_type": "execute_result"
    }
   ],
   "source": [
    "usersFromGroupA = orders[orders['group'] == 'A']['visitorId']\n",
    "usersFromGroupB = orders[orders['group'] == 'B']['visitorId']\n",
    "list(set(usersFromGroupA).intersection(set(usersFromGroupB)))"
   ]
  },
  {
   "cell_type": "code",
   "execution_count": 17,
   "metadata": {},
   "outputs": [],
   "source": [
    "id = [3957174400,\n",
    " 3984495233,\n",
    " 2780786433,\n",
    " 1294878855,\n",
    " 1648269707,\n",
    " 1614305549,\n",
    " 4120364173,\n",
    " 232979603,\n",
    " 199603092,\n",
    " 4266935830,\n",
    " 2712142231,\n",
    " 2587333274,\n",
    " 2716752286,\n",
    " 3891541246,\n",
    " 1668030113,\n",
    " 2654030115,\n",
    " 3234906277,\n",
    " 1230306981,\n",
    " 1404934699,\n",
    " 3803269165,\n",
    " 2949041841,\n",
    " 237748145,\n",
    " 457167155,\n",
    " 2927087541,\n",
    " 1738359350,\n",
    " 3062433592,\n",
    " 3656415546,\n",
    " 818047933,\n",
    " 393266494,\n",
    " 963407295,\n",
    " 471551937,\n",
    " 2579882178,\n",
    " 3202540741,\n",
    " 2686716486,\n",
    " 1333886533,\n",
    " 2044997962,\n",
    " 3941795274,\n",
    " 1801183820,\n",
    " 2378935119,\n",
    " 4256040402,\n",
    " 4069496402,\n",
    " 3766097110,\n",
    " 8300375,\n",
    " 351125977,\n",
    " 1602967004,\n",
    " 276558944,\n",
    " 2038680547,\n",
    " 3951559397,\n",
    " 3963646447,\n",
    " 4186807279,\n",
    " 3717692402,\n",
    " 1959144690,\n",
    " 2458001652,\n",
    " 2600415354,\n",
    " 2954449915,\n",
    " 1316129916,\n",
    " 477780734,\n",
    " 3972127743]"
   ]
  },
  {
   "cell_type": "code",
   "execution_count": 18,
   "metadata": {},
   "outputs": [],
   "source": [
    "# создадим датафрейм с уникальными парами значений 'date' и 'group', удалим возможные дубликаты\n",
    "datesGroups = orders[['date', 'group']].drop_duplicates()\n"
   ]
  },
  {
   "cell_type": "markdown",
   "metadata": {},
   "source": [
    "Соберём агрегированные кумулятивные по дням данные о заказах."
   ]
  },
  {
   "cell_type": "code",
   "execution_count": 19,
   "metadata": {},
   "outputs": [
    {
     "data": {
      "text/html": [
       "<div>\n",
       "<style scoped>\n",
       "    .dataframe tbody tr th:only-of-type {\n",
       "        vertical-align: middle;\n",
       "    }\n",
       "\n",
       "    .dataframe tbody tr th {\n",
       "        vertical-align: top;\n",
       "    }\n",
       "\n",
       "    .dataframe thead th {\n",
       "        text-align: right;\n",
       "    }\n",
       "</style>\n",
       "<table border=\"1\" class=\"dataframe\">\n",
       "  <thead>\n",
       "    <tr style=\"text-align: right;\">\n",
       "      <th></th>\n",
       "      <th>date</th>\n",
       "      <th>group</th>\n",
       "      <th>orders</th>\n",
       "      <th>buyers</th>\n",
       "      <th>revenue</th>\n",
       "      <th>visitors</th>\n",
       "    </tr>\n",
       "  </thead>\n",
       "  <tbody>\n",
       "    <tr>\n",
       "      <th>0</th>\n",
       "      <td>2019-08-01</td>\n",
       "      <td>A</td>\n",
       "      <td>24</td>\n",
       "      <td>20</td>\n",
       "      <td>148579</td>\n",
       "      <td>719</td>\n",
       "    </tr>\n",
       "    <tr>\n",
       "      <th>1</th>\n",
       "      <td>2019-08-01</td>\n",
       "      <td>B</td>\n",
       "      <td>21</td>\n",
       "      <td>20</td>\n",
       "      <td>101217</td>\n",
       "      <td>713</td>\n",
       "    </tr>\n",
       "    <tr>\n",
       "      <th>2</th>\n",
       "      <td>2019-08-02</td>\n",
       "      <td>A</td>\n",
       "      <td>44</td>\n",
       "      <td>38</td>\n",
       "      <td>242401</td>\n",
       "      <td>1338</td>\n",
       "    </tr>\n",
       "    <tr>\n",
       "      <th>3</th>\n",
       "      <td>2019-08-02</td>\n",
       "      <td>B</td>\n",
       "      <td>45</td>\n",
       "      <td>43</td>\n",
       "      <td>266748</td>\n",
       "      <td>1294</td>\n",
       "    </tr>\n",
       "    <tr>\n",
       "      <th>4</th>\n",
       "      <td>2019-08-03</td>\n",
       "      <td>A</td>\n",
       "      <td>68</td>\n",
       "      <td>62</td>\n",
       "      <td>354874</td>\n",
       "      <td>1845</td>\n",
       "    </tr>\n",
       "  </tbody>\n",
       "</table>\n",
       "</div>"
      ],
      "text/plain": [
       "        date group  orders  buyers  revenue  visitors\n",
       "0 2019-08-01     A      24      20   148579       719\n",
       "1 2019-08-01     B      21      20   101217       713\n",
       "2 2019-08-02     A      44      38   242401      1338\n",
       "3 2019-08-02     B      45      43   266748      1294\n",
       "4 2019-08-03     A      68      62   354874      1845"
      ]
     },
     "execution_count": 19,
     "metadata": {},
     "output_type": "execute_result"
    }
   ],
   "source": [
    "# Получим строки таблицы orders, дата которых меньше или равна дате элемента из datesGroups, \n",
    "# а группа теста равна группе из datesGroups, вычислим max дату и найдем число уникальных пользователей\n",
    "ordersAggregated = datesGroups.apply(\n",
    "    lambda x: orders[\n",
    "        np.logical_and(\n",
    "            orders['date'] <= x['date'], orders['group'] == x['group']\n",
    "        )\n",
    "    ].agg(\n",
    "        {\n",
    "            'date': 'max',\n",
    "            'group': 'max',\n",
    "            'transactionId': 'nunique',\n",
    "            'visitorId': 'nunique',\n",
    "            'revenue': 'sum',\n",
    "        }\n",
    "    ),\n",
    "    axis=1,# применим методы к каждой строке датафрейма\n",
    ").sort_values(by=['date', 'group']) # отсортируем результат\n",
    "\n",
    "# так же поступим с датафреймом visitors\n",
    "visitorsAggregated = datesGroups.apply(\n",
    "    lambda x: visitors[\n",
    "        np.logical_and(\n",
    "            visitors['date'] <= x['date'], visitors['group'] == x['group']\n",
    "        )\n",
    "    ].agg({'date': 'max', 'group': 'max', 'visitors': 'sum'}),\n",
    "    axis=1,\n",
    ").sort_values(by=['date', 'group'])\n",
    "\n",
    "# объединим датафреймы, переименуем столбцы\n",
    "cumulativeData = ordersAggregated.merge(visitorsAggregated, left_on=['date', 'group'], right_on=['date', 'group'])\n",
    "cumulativeData.columns = [\n",
    "    'date',\n",
    "    'group',\n",
    "    'orders',\n",
    "    'buyers',\n",
    "    'revenue',\n",
    "    'visitors',\n",
    "]\n",
    "cumulativeData.head(5)"
   ]
  },
  {
   "cell_type": "markdown",
   "metadata": {},
   "source": [
    "Проверим корректно ли создан датафрейм, для этого рассмотрим минимальные и максимальные даты датафрейма и исходных данных."
   ]
  },
  {
   "cell_type": "code",
   "execution_count": 20,
   "metadata": {},
   "outputs": [
    {
     "name": "stdout",
     "output_type": "stream",
     "text": [
      "Максимальная дата исходных данных:  2019-08-31 00:00:00\n"
     ]
    }
   ],
   "source": [
    "print('Максимальная дата исходных данных: ', orders['date'].max())"
   ]
  },
  {
   "cell_type": "code",
   "execution_count": 21,
   "metadata": {},
   "outputs": [
    {
     "name": "stdout",
     "output_type": "stream",
     "text": [
      "Минимальная дата исходных данных:  2019-08-01 00:00:00\n"
     ]
    }
   ],
   "source": [
    "print('Минимальная дата исходных данных: ', orders['date'].min())"
   ]
  },
  {
   "cell_type": "code",
   "execution_count": 22,
   "metadata": {},
   "outputs": [
    {
     "name": "stdout",
     "output_type": "stream",
     "text": [
      "Максимальная дата нового датафрейма:  2019-08-31 00:00:00\n"
     ]
    }
   ],
   "source": [
    "print('Максимальная дата нового датафрейма: ', cumulativeData['date'].max())"
   ]
  },
  {
   "cell_type": "code",
   "execution_count": 23,
   "metadata": {},
   "outputs": [
    {
     "name": "stdout",
     "output_type": "stream",
     "text": [
      "Минимальная дата нового датафрейма:  2019-08-01 00:00:00\n"
     ]
    }
   ],
   "source": [
    "print('Минимальная дата нового датафрейма: ', cumulativeData['date'].min())"
   ]
  },
  {
   "cell_type": "markdown",
   "metadata": {},
   "source": [
    "Даты совпадают, датафрейм создан корректно."
   ]
  },
  {
   "cell_type": "code",
   "execution_count": 24,
   "metadata": {},
   "outputs": [],
   "source": [
    "# объявим переменные с кумулятивными данными по группам\n",
    "cumulativeGroupA = cumulativeData[cumulativeData['group'] ==\"A\"][['date','revenue', 'orders']]\n",
    "cumulativeGroupB = cumulativeData[cumulativeData['group'] ==\"B\"][['date','revenue', 'orders']]"
   ]
  },
  {
   "cell_type": "markdown",
   "metadata": {},
   "source": [
    "### Построим график кумулятивной выручки по группам"
   ]
  },
  {
   "cell_type": "code",
   "execution_count": 25,
   "metadata": {},
   "outputs": [
    {
     "data": {
      "image/png": "[encoded data removed]",
      "text/plain": [
       "<Figure size 864x432 with 1 Axes>"
      ]
     },
     "metadata": {
      "needs_background": "light"
     },
     "output_type": "display_data"
    }
   ],
   "source": [
    "# построим графики\n",
    "plt.figure(figsize=(12, 6))\n",
    "plt.plot(cumulativeGroupA['date'], cumulativeGroupA['revenue'], label='A')\n",
    "plt.plot(cumulativeGroupB['date'], cumulativeGroupB['revenue'], label='B')\n",
    "\n",
    "plt.legend(['Группа А', 'Группа В'])\n",
    "plt.title('График кумулятивной выручки')\n",
    "plt.xlabel('Дата')\n",
    "plt.ylabel('Выручка');"
   ]
  },
  {
   "cell_type": "markdown",
   "metadata": {},
   "source": [
    "Из графика видно, что выручка по группе А равномерно увеличивается в ходе теста, а вот выручка группы В сначала увеличивается равномерно, но примерно 19 августа происходит значительный скачок, после которого выручка так же равномерно продолжает расти. Данный всплеск может быть обусловлен ростом количества заказов или наличием дорогих заказов."
   ]
  },
  {
   "cell_type": "markdown",
   "metadata": {},
   "source": [
    "### Построим график кумулятивного среднего чека по группам. "
   ]
  },
  {
   "cell_type": "code",
   "execution_count": 26,
   "metadata": {},
   "outputs": [
    {
     "data": {
      "image/png": "[encoded data removed]",
      "text/plain": [
       "<Figure size 864x432 with 1 Axes>"
      ]
     },
     "metadata": {
      "needs_background": "light"
     },
     "output_type": "display_data"
    }
   ],
   "source": [
    "# построим графики\n",
    "plt.figure(figsize=(12, 6))\n",
    "plt.plot(cumulativeGroupA['date'], cumulativeGroupA['revenue']/cumulativeGroupA['orders'], label='A')\n",
    "plt.plot(cumulativeGroupB['date'], cumulativeGroupB['revenue']/cumulativeGroupB['orders'], label='B')\n",
    "\n",
    "plt.legend(['Группа А', 'Группа В'])\n",
    "plt.title('График кумулятивного среднего чека')\n",
    "plt.xlabel('Дата')\n",
    "plt.ylabel('Средний чек');"
   ]
  },
  {
   "cell_type": "markdown",
   "metadata": {},
   "source": [
    "Данные графика по кумулятивному среднему чеку подтверждают наши наблюдения - 19 августа произошел скачок размера среднего чека группы В, а после 18 августа средняя стоиомсть чека начала снижатьсяб что свидетельствует о наличии дорогой покупки в этот день."
   ]
  },
  {
   "cell_type": "markdown",
   "metadata": {},
   "source": [
    "### Построим график относительного изменения кумулятивного среднего чека группы B к группе A."
   ]
  },
  {
   "cell_type": "code",
   "execution_count": 27,
   "metadata": {},
   "outputs": [
    {
     "data": {
      "image/png": "[encoded data removed]",
      "text/plain": [
       "<Figure size 864x432 with 1 Axes>"
      ]
     },
     "metadata": {
      "needs_background": "light"
     },
     "output_type": "display_data"
    }
   ],
   "source": [
    "# собирем кумулятивные данные в одном датафрейме\n",
    "mergedCumulativeRevenue = cumulativeGroupA.merge(cumulativeGroupB, left_on='date', right_on='date', how='left', suffixes=['A', 'B'])\n",
    "# построим график относительного изменения\n",
    "plt.figure(figsize=(12, 6))\n",
    "plt.plot(mergedCumulativeRevenue['date'], (mergedCumulativeRevenue['revenueB']/mergedCumulativeRevenue['ordersB'])/(mergedCumulativeRevenue['revenueA']/mergedCumulativeRevenue['ordersA'])-1)\n",
    "# добавляем ось X\n",
    "plt.axhline(y=0, color='black', linestyle='--') \n",
    "\n",
    "plt.title('График относительного изменения кумулятивного среднего чека группы В к группе А')\n",
    "plt.xlabel('Дата');"
   ]
  },
  {
   "cell_type": "markdown",
   "metadata": {},
   "source": [
    "По графики видно, что изначально средний чек группы В проигрывал группе А, но потом поизошел рост с падением 13 августа и снова рост, уже без падений до конца срока наблюдений. И опять мы видим аномальный рост 19 августа, что свидетельствует о дорогой покупке. \n"
   ]
  },
  {
   "cell_type": "markdown",
   "metadata": {},
   "source": [
    "### Построим график кумулятивной конверсии по группам. "
   ]
  },
  {
   "cell_type": "code",
   "execution_count": 28,
   "metadata": {},
   "outputs": [
    {
     "data": {
      "image/png": "[encoded data removed]",
      "text/plain": [
       "<Figure size 864x432 with 1 Axes>"
      ]
     },
     "metadata": {
      "needs_background": "light"
     },
     "output_type": "display_data"
    }
   ],
   "source": [
    "# посчитаем кумулятивную конверсию\n",
    "cumulativeData['conversion'] = cumulativeData['orders']/cumulativeData['visitors']\n",
    "\n",
    "# сохраним в переменных отдельно данные по группе А и группе В\n",
    "cumulativeDataA = cumulativeData[cumulativeData['group']=='A']\n",
    "cumulativeDataB = cumulativeData[cumulativeData['group']=='B']\n",
    "\n",
    "# строим графики\n",
    "plt.figure(figsize=(12, 6))\n",
    "plt.plot(cumulativeDataA['date'], cumulativeDataA['conversion'], label='A')\n",
    "plt.plot(cumulativeDataB['date'], cumulativeDataB['conversion'], label='B')\n",
    "\n",
    "plt.legend(['Группа А', 'Группа В'])\n",
    "plt.title('График кумулятивной конверсии')\n",
    "plt.xlabel('Дата')\n",
    "plt.ylabel('Конверсия');"
   ]
  },
  {
   "cell_type": "markdown",
   "metadata": {},
   "source": [
    "Видим, что после падения 4 августа конверсия группы В намного выше чем у группы А, которая ухудшается после 3 августа."
   ]
  },
  {
   "cell_type": "markdown",
   "metadata": {},
   "source": [
    "### Построим график относительного изменения кумулятивной конверсии группы B к группе A. "
   ]
  },
  {
   "cell_type": "code",
   "execution_count": 29,
   "metadata": {},
   "outputs": [
    {
     "data": {
      "image/png": "[encoded data removed]",
      "text/plain": [
       "<Figure size 864x432 with 1 Axes>"
      ]
     },
     "metadata": {
      "needs_background": "light"
     },
     "output_type": "display_data"
    }
   ],
   "source": [
    "# собирем кумулятивные данные в одном датафрейме\n",
    "mergedCumulativeConversion = cumulativeDataA.merge(cumulativeDataB, left_on='date', right_on='date', how='left', suffixes=['A', 'B'])\n",
    "# построим график относительного изменения\n",
    "plt.figure(figsize=(12, 6))\n",
    "plt.plot(mergedCumulativeConversion['date'], (mergedCumulativeConversion['conversionB']/mergedCumulativeConversion['conversionA'])-1)\n",
    "# добавляем ось X\n",
    "plt.axhline(y=0, color='black', linestyle='--') \n",
    "\n",
    "plt.title('График относительного изменения кумулятивной конверсии группы В к группе А')\n",
    "plt.xlabel('Дата');"
   ]
  },
  {
   "cell_type": "markdown",
   "metadata": {},
   "source": [
    "По графику можно увидеть, что группа В практически сразу начала показывать лучший результат по кумулятивной конверсии чем группа А, у группы В было падение конверсии в начале иследований, но потом отмечается резкий рост. К концу срока исследования отношение конверсии группы В к группе А снизилось относительно пиковых показателей, но все равно достаточно высоко."
   ]
  },
  {
   "cell_type": "markdown",
   "metadata": {},
   "source": [
    "### Построим точечный график количества заказов по пользователям. "
   ]
  },
  {
   "cell_type": "code",
   "execution_count": 30,
   "metadata": {},
   "outputs": [
    {
     "data": {
      "image/png": "[encoded data removed]",
      "text/plain": [
       "<Figure size 432x288 with 1 Axes>"
      ]
     },
     "metadata": {
      "needs_background": "light"
     },
     "output_type": "display_data"
    }
   ],
   "source": [
    "# объявим переменную, в которой посчитаем количество заказов по каждому пользователю\n",
    "ordersByUsers = orders.groupby('visitorId', as_index=False).agg({'transactionId': 'nunique'})\n",
    "ordersByUsers.columns= ['userId', 'orders']\n",
    "\n",
    "# построим точечный график\n",
    "x_values = pd.Series(range(0,len(ordersByUsers['orders'])))\n",
    "plt.scatter(x_values, ordersByUsers['orders'])\n",
    "plt.title('Точечный график количества заказов по пользователям')\n",
    "plt.xlabel('Количество наблюдений')\n",
    "plt.ylabel('Количество заказов');"
   ]
  },
  {
   "cell_type": "markdown",
   "metadata": {},
   "source": [
    "По графику выдно, что в основном у каждого пользователя по 1 заказу, чуть менее пользователей, у которых по 2 заказа, но так же встречаются выбросы - у пользователей более 10 заказов."
   ]
  },
  {
   "cell_type": "markdown",
   "metadata": {},
   "source": [
    "### Посчитаем 95-й и 99-й перцентили количества заказов на пользователя."
   ]
  },
  {
   "cell_type": "code",
   "execution_count": 31,
   "metadata": {},
   "outputs": [
    {
     "data": {
      "text/plain": [
       "array([2., 4.])"
      ]
     },
     "execution_count": 31,
     "metadata": {},
     "output_type": "execute_result"
    }
   ],
   "source": [
    "np.percentile(ordersByUsers['orders'], [95, 99])"
   ]
  },
  {
   "cell_type": "markdown",
   "metadata": {},
   "source": [
    "Видим, что всего 5% пользователей сделали более 2 заказов и всего 1% - более 4. Границу аномальных пользователей целесообразно установить на уровне 2, то есть 95 перцентиль."
   ]
  },
  {
   "cell_type": "code",
   "execution_count": 32,
   "metadata": {},
   "outputs": [],
   "source": [
    "# сохраним в переменной значение 95 перцентиля\n",
    "percentile_orders = int(np.percentile(ordersByUsers['orders'], [95]))\n"
   ]
  },
  {
   "cell_type": "markdown",
   "metadata": {},
   "source": [
    "### Построим точечный график стоимостей заказов. "
   ]
  },
  {
   "cell_type": "code",
   "execution_count": 33,
   "metadata": {},
   "outputs": [
    {
     "data": {
      "image/png": "[encoded data removed]",
      "text/plain": [
       "<Figure size 432x288 with 1 Axes>"
      ]
     },
     "metadata": {
      "needs_background": "light"
     },
     "output_type": "display_data"
    }
   ],
   "source": [
    "# оценим стоимость заказов, построив точечный график\n",
    "x_values = pd.Series(range(0,len(orders['revenue'])))\n",
    "plt.scatter(x_values, orders['revenue'])\n",
    "plt.title('Точечный график стоимости заказов')\n",
    "plt.xlabel('Количество наблюдений')\n",
    "plt.ylabel('Стоимость заказов');"
   ]
  },
  {
   "cell_type": "markdown",
   "metadata": {},
   "source": [
    "Из графика видно, что основная часть заказов достаточно схожих по стоимости, но есть несколько выбивающихся из общей картины."
   ]
  },
  {
   "cell_type": "markdown",
   "metadata": {},
   "source": [
    "### Посчитаем 95-й и 99-й перцентили стоимости заказов. "
   ]
  },
  {
   "cell_type": "code",
   "execution_count": 34,
   "metadata": {},
   "outputs": [
    {
     "data": {
      "text/plain": [
       "array([28000. , 58233.2])"
      ]
     },
     "execution_count": 34,
     "metadata": {},
     "output_type": "execute_result"
    }
   ],
   "source": [
    "np.percentile(orders['revenue'], [95, 99])"
   ]
  },
  {
   "cell_type": "markdown",
   "metadata": {},
   "source": [
    "Видим, что 5% заказов от 28000 и всего 1% - от 58233.2. Разумно установить границу для определения аномальной стоимости заказов на уровне 58233.2, т.е. 99 перцентиль."
   ]
  },
  {
   "cell_type": "code",
   "execution_count": 35,
   "metadata": {},
   "outputs": [],
   "source": [
    "# сохраним в переменной значение 99 перцентиля\n",
    "percentile_revenue = float(np.percentile(orders['revenue'], [99]))"
   ]
  },
  {
   "cell_type": "markdown",
   "metadata": {},
   "source": [
    "### Посчитаем статистическую значимость различий в конверсии между группами по «сырым» данным. "
   ]
  },
  {
   "cell_type": "markdown",
   "metadata": {},
   "source": [
    "Сформулируем гипотезы:\n",
    "* нулевая гипотеза - различий в конверсии между группами нет;\n",
    "* альтернативная гипотеза - различия в конверсии между группами есть.\n",
    "\n",
    "Так как у нас не очень большой объем данных для исследования (1196 строк), то примим уровень статистической значимости равный 0,05."
   ]
  },
  {
   "cell_type": "code",
   "execution_count": 36,
   "metadata": {},
   "outputs": [
    {
     "name": "stdout",
     "output_type": "stream",
     "text": [
      "p-значение 0.017\n",
      "Различие в конверсии группы В к конверсии группы А: 0.138\n"
     ]
    }
   ],
   "source": [
    "# объявим переменные, в которых укажем количество заказов\n",
    "ordersByUsersA = orders[orders['group'] == 'A'].groupby('visitorId', as_index=False).agg({'transactionId': pd.Series.nunique})\n",
    "ordersByUsersA.columns = ['userId', 'orders']\n",
    "\n",
    "ordersByUsersB = orders[orders['group'] == 'B'].groupby('visitorId', as_index=False).agg({'transactionId': pd.Series.nunique})\n",
    "ordersByUsersB.columns = ['userId', 'orders']\n",
    "\n",
    "# объявим переменные, в которых пользователям из разных групп будет соответствовать количество заказов\n",
    "sampleA = pd.concat([ordersByUsersA['orders'],pd.Series(0,index=np.arange(visitors[visitors['group']=='A']['visitors'].sum()\n",
    "                    - len(ordersByUsersA['orders'])),name='orders')], axis=0)\n",
    "\n",
    "sampleB = pd.concat([ordersByUsersB['orders'],pd.Series(0,index=np.arange(visitors[visitors['group']=='B']['visitors'].sum()\n",
    "                   - len(ordersByUsersB['orders'])), name='orders',),], axis=0,)\n",
    "\n",
    "\n",
    "print('p-значение', '{0:.3f}'.format(stats.mannwhitneyu(sampleA, sampleB)[1]))\n",
    "\n",
    "print('Различие в конверсии группы В к конверсии группы А:', '{0:.3f}'.format(sampleB.mean() / sampleA.mean() - 1))"
   ]
  },
  {
   "cell_type": "markdown",
   "metadata": {},
   "source": [
    "Первое получившееся значение это р-значение, которое меньше 0.05, значит нулевую гипотезу о том, что нет различий в конверсии между группами, отвергаем.\n",
    "Конверсия группы В на 13.8% выше конверсии группы А."
   ]
  },
  {
   "cell_type": "markdown",
   "metadata": {},
   "source": [
    "### Посчитаем статистическую значимость различий в среднем чеке заказа между группами по «сырым» данным. "
   ]
  },
  {
   "cell_type": "markdown",
   "metadata": {},
   "source": [
    "Сформулируем гипотезы:\n",
    "\n",
    "* нулевая гипотеза - различий в среднем чеке между группами нет;\n",
    "* альтернативная гипотеза - различия среднем чеке между группами есть.\n",
    "\n",
    "Уровень статистической значимости - 0,05."
   ]
  },
  {
   "cell_type": "code",
   "execution_count": 37,
   "metadata": {},
   "outputs": [
    {
     "name": "stdout",
     "output_type": "stream",
     "text": [
      "p-значение 0.729\n",
      "Различие в среднем чеке группы В к среднему чеку группы А: 0.259\n"
     ]
    }
   ],
   "source": [
    "\n",
    "print('p-значение', '{0:.3f}'.format(stats.mannwhitneyu(orders[orders['group'] == 'A']['revenue'],\\\n",
    "                                                        orders[orders['group'] == 'B']['revenue'])[1]))\n",
    "\n",
    "print('Различие в среднем чеке группы В к среднему чеку группы А:', '{0:.3f}'\\\n",
    "      .format(orders[orders['group'] == 'B']['revenue'].mean()/orders[orders['group'] == 'A']['revenue'].mean() - 1))"
   ]
  },
  {
   "cell_type": "markdown",
   "metadata": {},
   "source": [
    "p-значение равно 0,729, что больше уровня статистической значимости, поэтому у нас не получилсь отвергнуть нулевую гипотезу и получается, что различий в среднем чеке между группами нет. Величина среднего чека в группе В на 25.9% выше среднего чека группы А. Здесь мы опять видим подтвержение наших выводов по графику кумулятивного среднего чека по группам.  "
   ]
  },
  {
   "cell_type": "markdown",
   "metadata": {},
   "source": [
    "### Очистим данные от аномальных значений."
   ]
  },
  {
   "cell_type": "markdown",
   "metadata": {},
   "source": [
    "На предыдущих этапах мы определили границу аномальных пользователей по количеству заказов на уровне 2, а аномальной стоимости заказов на уровне 58233.2."
   ]
  },
  {
   "cell_type": "code",
   "execution_count": 38,
   "metadata": {},
   "outputs": [
    {
     "data": {
      "text/plain": [
       "31"
      ]
     },
     "execution_count": 38,
     "metadata": {},
     "output_type": "execute_result"
    }
   ],
   "source": [
    "# Узнаем сколько в данных аномальных пользователей\n",
    "# для начала отберем данные, не входящие в установленные границы аномальных пользователей\n",
    "usersWithManyOrders = pd.concat([ordersByUsersA[ordersByUsersA['orders'] > percentile_orders]['userId'],\n",
    "                                 ordersByUsersB[ordersByUsersB['orders'] > percentile_orders]['userId'],\n",
    "],\n",
    "    axis=0,\n",
    ")\n",
    "usersWithExpensiveOrders = orders[orders['revenue']>percentile_revenue]['visitorId']\n",
    "\n",
    "# объединим аномальных пользователей\n",
    "abnormalUsers = pd.concat([usersWithManyOrders, usersWithExpensiveOrders], axis=0).drop_duplicates().sort_values()\n",
    "\n",
    "abnormalUsers.shape[0]"
   ]
  },
  {
   "cell_type": "markdown",
   "metadata": {},
   "source": [
    "Видим, что аномальных пользователей в наших данных 31."
   ]
  },
  {
   "cell_type": "code",
   "execution_count": 39,
   "metadata": {},
   "outputs": [
    {
     "data": {
      "text/plain": [
       "15"
      ]
     },
     "execution_count": 39,
     "metadata": {},
     "output_type": "execute_result"
    }
   ],
   "source": [
    "# проверим совпадают ли id аномальных пользователей с id пользователей, вошедших в обе группы\n",
    "listId = 0\n",
    "for x in abnormalUsers:\n",
    "    if x in id:\n",
    "        listId+=1\n",
    "listId"
   ]
  },
  {
   "cell_type": "markdown",
   "metadata": {},
   "source": [
    "Видим, что 15 пользователей, которые входят и в группу А и в группу В являются аномальными и мы от них избавляемся при \"очищении\" данных. Чтобы более четко проанлизировать аномальных покупателей, не будем на этапе подготовки данных, удалять данных покупателей (п.2.2)."
   ]
  },
  {
   "cell_type": "code",
   "execution_count": 40,
   "metadata": {},
   "outputs": [],
   "source": [
    "# очистим данные от аномалий\n",
    "dataFilteredA = pd.concat([ordersByUsersA[np.logical_not(ordersByUsersA ['userId'].isin(abnormalUsers))]['orders'], \n",
    "                           pd.Series(0, index=np.arange(visitors[visitors['group']=='A']['visitors'].sum()\n",
    "                    - len(ordersByUsersA['orders'])),name='orders')], axis=0)\n",
    "dataFilteredB = pd.concat([ordersByUsersB[np.logical_not(ordersByUsersB ['userId'].isin(abnormalUsers))]['orders'], \n",
    "                           pd.Series(0, index=np.arange(visitors[visitors['group']=='B']['visitors'].sum()\n",
    "                    - len(ordersByUsersB['orders'])),name='orders')], axis=0)"
   ]
  },
  {
   "cell_type": "markdown",
   "metadata": {},
   "source": [
    "### Посчитаем статистическую значимость различий в конверсии между группами по «очищенным» данным. "
   ]
  },
  {
   "cell_type": "code",
   "execution_count": 41,
   "metadata": {},
   "outputs": [
    {
     "name": "stdout",
     "output_type": "stream",
     "text": [
      "p-значение: 0.010\n",
      "Различия в конверсии группы В к конверсии группы А: 0.174\n"
     ]
    }
   ],
   "source": [
    "print('p-значение:', '{0:.3f}'.format(stats.mannwhitneyu(dataFilteredA, dataFilteredB)[1]))\n",
    "\n",
    "print('Различия в конверсии группы В к конверсии группы А:', '{0:.3f}'.format(dataFilteredB.mean() / dataFilteredA.mean() - 1))"
   ]
  },
  {
   "cell_type": "markdown",
   "metadata": {},
   "source": [
    "р-значение очищенных данных стало даже меньше чем р-значение первоначальных данных и оно также меньше 0.05, значит нулевую гипотезу о том, что нет различий в конверсии между группами отвергаем.\n",
    "Конверсия группы В по очищенным данным так же выше чем конверсии группы А (17.4%)."
   ]
  },
  {
   "cell_type": "markdown",
   "metadata": {},
   "source": [
    "### Посчитаем статистическую значимость различий в среднем чеке заказа между группами по «очищенным» данным"
   ]
  },
  {
   "cell_type": "code",
   "execution_count": 42,
   "metadata": {},
   "outputs": [
    {
     "name": "stdout",
     "output_type": "stream",
     "text": [
      "р-значение: 0.798\n",
      "Различие в среднем чеке группы В к среднему чеку группы А: -0.020\n"
     ]
    }
   ],
   "source": [
    "print('р-значение:', '{0:.3f}'.format(stats.mannwhitneyu(orders[np.logical_and(orders['group'] == 'A',np.logical_not(\n",
    "    orders['visitorId'].isin(abnormalUsers)),)]['revenue'], orders[np.logical_and(orders['group'] == 'B',\n",
    "                    np.logical_not(orders['visitorId'].isin(abnormalUsers)),)]['revenue'],)[1]))\n",
    "\n",
    "print('Различие в среднем чеке группы В к среднему чеку группы А:', '{0:.3f}'.format(orders[np.logical_and(orders['group'] == 'B',np.logical_not(\n",
    "    orders['visitorId'].isin(abnormalUsers)),)]['revenue'].mean()/ orders[np.logical_and(orders['group'] == 'A',\n",
    "                np.logical_not(orders['visitorId'].isin(abnormalUsers)),)]['revenue'].mean()- 1)) "
   ]
  },
  {
   "cell_type": "markdown",
   "metadata": {},
   "source": [
    "р-значение по очищенным данным так же больше уровня статистической значимости, поэтому нам не удалось отвергнуть нулевую гипотезу и значит, что различий между средними чеками между группами нет.\n",
    "\n",
    "А вот отношение средних чеков между группами по очищенным данным значительно поменялось: по полным данным группа В на 25.9% больше, чем средний чек группы А, а по очищенным данным средний чек группы В меньше на 2% среднего чека группы А. Это говорит, о том, что в группе В были аномальные дорогие покупки, от которых мы очистили данные."
   ]
  },
  {
   "cell_type": "markdown",
   "metadata": {},
   "source": [
    "***Подведем итоги:***\n",
    "* различия между конверсией между группами А и В есть как в \"сырых\" так и в очищенных данных;\n",
    "* различий в среднем чеке между группами как по \"сырым\" так и по очищенным данным нет;\n",
    "* конверсия группы В выше чем конверсия группы А (в \"сырых\" данных на 13.8%, по очищенным на 17.4%)\n",
    "* по \"сырым\" данным средний чек группы В на 25.9% больше среднего чека группы А, а по очищенным данным средний чек группы В уже меньше на 2% чем у группы А."
   ]
  },
  {
   "cell_type": "markdown",
   "metadata": {},
   "source": [
    "***Вывод:***\n",
    "Можно остановить тест и признать выигрывшей группу В, так как, хотя средний чек очищенных данных группы В чуть ниже данного показателя группы А, но ее конверсия как в \"сырых\", так и в очищенных данных выше на 13.8% и 17.4% соответственно."
   ]
  }
 ],
 "metadata": {
  "ExecuteTimeLog": [
   {
    "duration": 879,
    "start_time": "2022-09-27T10:04:03.586Z"
   },
   {
    "duration": 98,
    "start_time": "2022-09-27T10:06:23.986Z"
   },
   {
    "duration": 77,
    "start_time": "2022-09-27T10:06:39.894Z"
   },
   {
    "duration": 35,
    "start_time": "2022-09-27T10:06:56.478Z"
   },
   {
    "duration": 35,
    "start_time": "2022-09-27T10:07:06.267Z"
   },
   {
    "duration": 32,
    "start_time": "2022-09-27T10:07:21.505Z"
   },
   {
    "duration": 8,
    "start_time": "2022-09-27T10:12:48.641Z"
   },
   {
    "duration": 5089,
    "start_time": "2022-09-27T10:16:59.209Z"
   },
   {
    "duration": 1295,
    "start_time": "2022-09-27T10:17:06.157Z"
   },
   {
    "duration": 14,
    "start_time": "2022-09-27T10:17:17.967Z"
   },
   {
    "duration": 11,
    "start_time": "2022-09-27T10:27:16.322Z"
   },
   {
    "duration": 14,
    "start_time": "2022-09-27T10:28:40.139Z"
   },
   {
    "duration": 152,
    "start_time": "2022-09-27T10:43:39.759Z"
   },
   {
    "duration": 3,
    "start_time": "2022-09-27T10:57:58.794Z"
   },
   {
    "duration": 20,
    "start_time": "2022-09-27T10:58:22.427Z"
   },
   {
    "duration": 16,
    "start_time": "2022-09-27T10:59:01.901Z"
   },
   {
    "duration": 20,
    "start_time": "2022-09-27T10:59:10.219Z"
   },
   {
    "duration": 3,
    "start_time": "2022-09-27T11:00:29.591Z"
   },
   {
    "duration": 13,
    "start_time": "2022-09-27T11:00:30.214Z"
   },
   {
    "duration": 22,
    "start_time": "2022-09-27T11:01:28.870Z"
   },
   {
    "duration": 3,
    "start_time": "2022-09-27T11:04:28.796Z"
   },
   {
    "duration": 15,
    "start_time": "2022-09-27T11:04:30.224Z"
   },
   {
    "duration": 4,
    "start_time": "2022-09-27T11:04:49.144Z"
   },
   {
    "duration": 13,
    "start_time": "2022-09-27T11:04:52.176Z"
   },
   {
    "duration": 2,
    "start_time": "2022-09-27T11:05:01.211Z"
   },
   {
    "duration": 13,
    "start_time": "2022-09-27T11:05:02.178Z"
   },
   {
    "duration": 84,
    "start_time": "2022-09-27T11:06:06.939Z"
   },
   {
    "duration": 4,
    "start_time": "2022-09-27T11:08:14.380Z"
   },
   {
    "duration": 14,
    "start_time": "2022-09-27T11:08:16.087Z"
   },
   {
    "duration": 51,
    "start_time": "2022-09-27T11:08:25.886Z"
   },
   {
    "duration": 107,
    "start_time": "2022-09-27T11:08:49.130Z"
   },
   {
    "duration": 13,
    "start_time": "2022-09-27T11:09:00.732Z"
   },
   {
    "duration": 48,
    "start_time": "2022-09-27T11:09:13.332Z"
   },
   {
    "duration": 15,
    "start_time": "2022-09-27T11:09:20.166Z"
   },
   {
    "duration": 75,
    "start_time": "2022-09-27T11:09:31.026Z"
   },
   {
    "duration": 3,
    "start_time": "2022-09-27T11:09:44.776Z"
   },
   {
    "duration": 14,
    "start_time": "2022-09-27T11:09:46.992Z"
   },
   {
    "duration": 15,
    "start_time": "2022-09-27T11:09:51.227Z"
   },
   {
    "duration": 35,
    "start_time": "2022-09-27T11:10:29.482Z"
   },
   {
    "duration": 884,
    "start_time": "2022-09-27T11:11:12.085Z"
   },
   {
    "duration": 35,
    "start_time": "2022-09-27T11:11:12.971Z"
   },
   {
    "duration": 14,
    "start_time": "2022-09-27T11:11:13.008Z"
   },
   {
    "duration": 11,
    "start_time": "2022-09-27T11:11:13.024Z"
   },
   {
    "duration": 10,
    "start_time": "2022-09-27T11:11:13.037Z"
   },
   {
    "duration": 60,
    "start_time": "2022-09-27T11:11:13.049Z"
   },
   {
    "duration": 3,
    "start_time": "2022-09-27T11:11:13.112Z"
   },
   {
    "duration": 34,
    "start_time": "2022-09-27T11:11:13.116Z"
   },
   {
    "duration": 23,
    "start_time": "2022-09-27T11:11:13.152Z"
   },
   {
    "duration": 3,
    "start_time": "2022-09-27T11:16:01.833Z"
   },
   {
    "duration": 16,
    "start_time": "2022-09-27T11:16:02.955Z"
   },
   {
    "duration": 3,
    "start_time": "2022-09-27T11:16:17.219Z"
   },
   {
    "duration": 15,
    "start_time": "2022-09-27T11:16:18.716Z"
   },
   {
    "duration": 17,
    "start_time": "2022-09-27T11:16:21.152Z"
   },
   {
    "duration": 118,
    "start_time": "2022-09-27T11:25:11.184Z"
   },
   {
    "duration": 53,
    "start_time": "2022-09-27T11:26:58.285Z"
   },
   {
    "duration": 106,
    "start_time": "2022-09-27T11:27:06.992Z"
   },
   {
    "duration": 16,
    "start_time": "2022-09-27T11:32:40.039Z"
   },
   {
    "duration": 15,
    "start_time": "2022-09-27T11:33:14.458Z"
   },
   {
    "duration": 12,
    "start_time": "2022-09-27T11:33:42.997Z"
   },
   {
    "duration": 16,
    "start_time": "2022-09-27T11:34:06.645Z"
   },
   {
    "duration": 11,
    "start_time": "2022-09-27T11:39:05.771Z"
   },
   {
    "duration": 16,
    "start_time": "2022-09-27T11:45:24.202Z"
   },
   {
    "duration": 10,
    "start_time": "2022-09-27T11:45:33.213Z"
   },
   {
    "duration": 11,
    "start_time": "2022-09-27T11:46:00.098Z"
   },
   {
    "duration": 9,
    "start_time": "2022-09-27T11:52:34.767Z"
   },
   {
    "duration": 10,
    "start_time": "2022-09-27T11:52:44.727Z"
   },
   {
    "duration": 60,
    "start_time": "2022-09-27T11:53:35.047Z"
   },
   {
    "duration": 6,
    "start_time": "2022-09-27T11:56:03.136Z"
   },
   {
    "duration": 10,
    "start_time": "2022-09-27T11:56:16.031Z"
   },
   {
    "duration": 22,
    "start_time": "2022-09-27T12:00:41.814Z"
   },
   {
    "duration": 45,
    "start_time": "2022-09-28T07:30:15.765Z"
   },
   {
    "duration": 904,
    "start_time": "2022-09-28T07:37:06.451Z"
   },
   {
    "duration": 72,
    "start_time": "2022-09-28T07:37:07.358Z"
   },
   {
    "duration": 27,
    "start_time": "2022-09-28T07:37:07.432Z"
   },
   {
    "duration": 21,
    "start_time": "2022-09-28T07:37:07.462Z"
   },
   {
    "duration": 11,
    "start_time": "2022-09-28T07:37:07.485Z"
   },
   {
    "duration": 167,
    "start_time": "2022-09-28T07:37:07.498Z"
   },
   {
    "duration": 3,
    "start_time": "2022-09-28T07:37:07.667Z"
   },
   {
    "duration": 26,
    "start_time": "2022-09-28T07:37:07.672Z"
   },
   {
    "duration": 21,
    "start_time": "2022-09-28T07:37:07.700Z"
   },
   {
    "duration": 15,
    "start_time": "2022-09-28T07:37:07.724Z"
   },
   {
    "duration": 113,
    "start_time": "2022-09-28T07:52:55.350Z"
   },
   {
    "duration": 15,
    "start_time": "2022-09-28T07:54:15.665Z"
   },
   {
    "duration": 244,
    "start_time": "2022-09-28T07:54:21.985Z"
   },
   {
    "duration": 282,
    "start_time": "2022-09-28T07:58:29.282Z"
   },
   {
    "duration": 253,
    "start_time": "2022-09-28T07:58:50.878Z"
   },
   {
    "duration": 5,
    "start_time": "2022-09-28T07:59:32.867Z"
   },
   {
    "duration": 198,
    "start_time": "2022-09-28T08:03:39.784Z"
   },
   {
    "duration": 6,
    "start_time": "2022-09-28T08:04:38.398Z"
   },
   {
    "duration": 10,
    "start_time": "2022-09-28T08:07:22.082Z"
   },
   {
    "duration": 1235,
    "start_time": "2022-09-28T08:07:49.345Z"
   },
   {
    "duration": 95,
    "start_time": "2022-09-28T08:07:50.582Z"
   },
   {
    "duration": 12,
    "start_time": "2022-09-28T08:07:50.678Z"
   },
   {
    "duration": 25,
    "start_time": "2022-09-28T08:07:50.693Z"
   },
   {
    "duration": 33,
    "start_time": "2022-09-28T08:07:50.720Z"
   },
   {
    "duration": 71,
    "start_time": "2022-09-28T08:07:50.755Z"
   },
   {
    "duration": 3,
    "start_time": "2022-09-28T08:07:50.828Z"
   },
   {
    "duration": 45,
    "start_time": "2022-09-28T08:07:50.833Z"
   },
   {
    "duration": 41,
    "start_time": "2022-09-28T08:07:50.880Z"
   },
   {
    "duration": 28,
    "start_time": "2022-09-28T08:07:50.923Z"
   },
   {
    "duration": 287,
    "start_time": "2022-09-28T08:07:50.953Z"
   },
   {
    "duration": 6,
    "start_time": "2022-09-28T08:07:51.241Z"
   },
   {
    "duration": 134,
    "start_time": "2022-09-28T08:07:51.250Z"
   },
   {
    "duration": 264,
    "start_time": "2022-09-28T08:08:14.304Z"
   },
   {
    "duration": 295,
    "start_time": "2022-09-28T08:08:20.153Z"
   },
   {
    "duration": 258,
    "start_time": "2022-09-28T08:15:27.659Z"
   },
   {
    "duration": 304,
    "start_time": "2022-09-28T08:15:36.300Z"
   },
   {
    "duration": 303,
    "start_time": "2022-09-28T08:15:56.368Z"
   },
   {
    "duration": 287,
    "start_time": "2022-09-28T08:16:03.733Z"
   },
   {
    "duration": 283,
    "start_time": "2022-09-28T08:16:19.835Z"
   },
   {
    "duration": 257,
    "start_time": "2022-09-28T08:17:59.947Z"
   },
   {
    "duration": 265,
    "start_time": "2022-09-28T08:18:17.500Z"
   },
   {
    "duration": 289,
    "start_time": "2022-09-28T08:18:36.734Z"
   },
   {
    "duration": 673,
    "start_time": "2022-09-28T08:18:49.540Z"
   },
   {
    "duration": 272,
    "start_time": "2022-09-28T08:18:57.384Z"
   },
   {
    "duration": 241,
    "start_time": "2022-09-28T08:20:28.961Z"
   },
   {
    "duration": 258,
    "start_time": "2022-09-28T08:20:40.979Z"
   },
   {
    "duration": 285,
    "start_time": "2022-09-28T08:20:50.631Z"
   },
   {
    "duration": 277,
    "start_time": "2022-09-28T08:20:58.261Z"
   },
   {
    "duration": 290,
    "start_time": "2022-09-28T08:21:03.736Z"
   },
   {
    "duration": 1082,
    "start_time": "2022-09-28T08:21:14.836Z"
   },
   {
    "duration": 89,
    "start_time": "2022-09-28T08:21:15.919Z"
   },
   {
    "duration": 11,
    "start_time": "2022-09-28T08:21:16.010Z"
   },
   {
    "duration": 15,
    "start_time": "2022-09-28T08:21:16.023Z"
   },
   {
    "duration": 30,
    "start_time": "2022-09-28T08:21:16.039Z"
   },
   {
    "duration": 58,
    "start_time": "2022-09-28T08:21:16.070Z"
   },
   {
    "duration": 12,
    "start_time": "2022-09-28T08:21:16.130Z"
   },
   {
    "duration": 37,
    "start_time": "2022-09-28T08:21:16.146Z"
   },
   {
    "duration": 22,
    "start_time": "2022-09-28T08:21:16.185Z"
   },
   {
    "duration": 7,
    "start_time": "2022-09-28T08:21:16.209Z"
   },
   {
    "duration": 332,
    "start_time": "2022-09-28T08:21:16.217Z"
   },
   {
    "duration": 17,
    "start_time": "2022-09-28T08:21:16.555Z"
   },
   {
    "duration": 318,
    "start_time": "2022-09-28T08:21:16.574Z"
   },
   {
    "duration": 620,
    "start_time": "2022-09-28T08:23:04.204Z"
   },
   {
    "duration": 433,
    "start_time": "2022-09-28T08:23:23.906Z"
   },
   {
    "duration": 13,
    "start_time": "2022-09-28T08:24:07.499Z"
   },
   {
    "duration": 1130,
    "start_time": "2022-09-28T08:25:55.210Z"
   },
   {
    "duration": 106,
    "start_time": "2022-09-28T08:25:56.342Z"
   },
   {
    "duration": 22,
    "start_time": "2022-09-28T08:25:56.450Z"
   },
   {
    "duration": 22,
    "start_time": "2022-09-28T08:25:56.475Z"
   },
   {
    "duration": 14,
    "start_time": "2022-09-28T08:25:56.501Z"
   },
   {
    "duration": 74,
    "start_time": "2022-09-28T08:25:56.517Z"
   },
   {
    "duration": 4,
    "start_time": "2022-09-28T08:25:56.593Z"
   },
   {
    "duration": 27,
    "start_time": "2022-09-28T08:25:56.600Z"
   },
   {
    "duration": 37,
    "start_time": "2022-09-28T08:25:56.629Z"
   },
   {
    "duration": 24,
    "start_time": "2022-09-28T08:25:56.668Z"
   },
   {
    "duration": 33,
    "start_time": "2022-09-28T08:25:56.694Z"
   },
   {
    "duration": 370,
    "start_time": "2022-09-28T08:25:56.729Z"
   },
   {
    "duration": 6,
    "start_time": "2022-09-28T08:25:57.101Z"
   },
   {
    "duration": 273,
    "start_time": "2022-09-28T08:25:57.109Z"
   },
   {
    "duration": 193,
    "start_time": "2022-09-28T08:28:57.202Z"
   },
   {
    "duration": 191,
    "start_time": "2022-09-28T08:29:06.607Z"
   },
   {
    "duration": 182,
    "start_time": "2022-09-28T08:29:14.353Z"
   },
   {
    "duration": 190,
    "start_time": "2022-09-28T08:29:19.849Z"
   },
   {
    "duration": 222,
    "start_time": "2022-09-28T08:29:25.757Z"
   },
   {
    "duration": 181,
    "start_time": "2022-09-28T08:29:33.197Z"
   },
   {
    "duration": 200,
    "start_time": "2022-09-28T08:29:41.518Z"
   },
   {
    "duration": 205,
    "start_time": "2022-09-28T08:29:49.616Z"
   },
   {
    "duration": 186,
    "start_time": "2022-09-28T08:30:37.196Z"
   },
   {
    "duration": 214,
    "start_time": "2022-09-28T08:32:35.251Z"
   },
   {
    "duration": 189,
    "start_time": "2022-09-28T08:32:42.697Z"
   },
   {
    "duration": 200,
    "start_time": "2022-09-28T08:32:48.928Z"
   },
   {
    "duration": 197,
    "start_time": "2022-09-28T08:32:57.058Z"
   },
   {
    "duration": 203,
    "start_time": "2022-09-28T08:33:44.358Z"
   },
   {
    "duration": 295,
    "start_time": "2022-09-28T08:33:56.269Z"
   },
   {
    "duration": 244,
    "start_time": "2022-09-28T08:34:06.758Z"
   },
   {
    "duration": 222,
    "start_time": "2022-09-28T08:35:26.017Z"
   },
   {
    "duration": 305,
    "start_time": "2022-09-28T08:36:53.353Z"
   },
   {
    "duration": 284,
    "start_time": "2022-09-28T08:37:27.445Z"
   },
   {
    "duration": 1158,
    "start_time": "2022-09-28T08:39:00.403Z"
   },
   {
    "duration": 0,
    "start_time": "2022-09-28T08:39:01.621Z"
   },
   {
    "duration": 0,
    "start_time": "2022-09-28T08:39:01.622Z"
   },
   {
    "duration": 0,
    "start_time": "2022-09-28T08:39:01.623Z"
   },
   {
    "duration": 0,
    "start_time": "2022-09-28T08:39:01.638Z"
   },
   {
    "duration": 0,
    "start_time": "2022-09-28T08:39:01.640Z"
   },
   {
    "duration": 0,
    "start_time": "2022-09-28T08:39:01.641Z"
   },
   {
    "duration": 0,
    "start_time": "2022-09-28T08:39:01.643Z"
   },
   {
    "duration": 0,
    "start_time": "2022-09-28T08:39:01.644Z"
   },
   {
    "duration": 0,
    "start_time": "2022-09-28T08:39:01.646Z"
   },
   {
    "duration": 0,
    "start_time": "2022-09-28T08:39:01.647Z"
   },
   {
    "duration": 0,
    "start_time": "2022-09-28T08:39:01.648Z"
   },
   {
    "duration": 0,
    "start_time": "2022-09-28T08:39:01.649Z"
   },
   {
    "duration": 0,
    "start_time": "2022-09-28T08:39:01.651Z"
   },
   {
    "duration": 1173,
    "start_time": "2022-09-28T08:39:44.443Z"
   },
   {
    "duration": 40,
    "start_time": "2022-09-28T08:39:45.618Z"
   },
   {
    "duration": 15,
    "start_time": "2022-09-28T08:39:45.660Z"
   },
   {
    "duration": 14,
    "start_time": "2022-09-28T08:39:45.677Z"
   },
   {
    "duration": 14,
    "start_time": "2022-09-28T08:39:45.693Z"
   },
   {
    "duration": 60,
    "start_time": "2022-09-28T08:39:45.708Z"
   },
   {
    "duration": 4,
    "start_time": "2022-09-28T08:39:45.770Z"
   },
   {
    "duration": 30,
    "start_time": "2022-09-28T08:39:45.776Z"
   },
   {
    "duration": 22,
    "start_time": "2022-09-28T08:39:45.808Z"
   },
   {
    "duration": 37,
    "start_time": "2022-09-28T08:39:45.833Z"
   },
   {
    "duration": 14,
    "start_time": "2022-09-28T08:39:45.872Z"
   },
   {
    "duration": 287,
    "start_time": "2022-09-28T08:39:45.888Z"
   },
   {
    "duration": 6,
    "start_time": "2022-09-28T08:39:46.177Z"
   },
   {
    "duration": 478,
    "start_time": "2022-09-28T08:39:46.185Z"
   },
   {
    "duration": 302,
    "start_time": "2022-09-28T08:40:13.325Z"
   },
   {
    "duration": 289,
    "start_time": "2022-09-28T08:40:22.918Z"
   },
   {
    "duration": 191,
    "start_time": "2022-09-28T08:41:24.314Z"
   },
   {
    "duration": 189,
    "start_time": "2022-09-28T08:41:30.364Z"
   },
   {
    "duration": 206,
    "start_time": "2022-09-28T08:41:35.968Z"
   },
   {
    "duration": 221,
    "start_time": "2022-09-28T08:41:41.709Z"
   },
   {
    "duration": 215,
    "start_time": "2022-09-28T08:41:49.248Z"
   },
   {
    "duration": 188,
    "start_time": "2022-09-28T08:41:57.276Z"
   },
   {
    "duration": 286,
    "start_time": "2022-09-28T08:42:03.314Z"
   },
   {
    "duration": 271,
    "start_time": "2022-09-28T08:42:11.566Z"
   },
   {
    "duration": 204,
    "start_time": "2022-09-28T08:42:18.039Z"
   },
   {
    "duration": 210,
    "start_time": "2022-09-28T08:42:25.868Z"
   },
   {
    "duration": 212,
    "start_time": "2022-09-28T08:42:32.340Z"
   },
   {
    "duration": 217,
    "start_time": "2022-09-28T08:42:38.042Z"
   },
   {
    "duration": 196,
    "start_time": "2022-09-28T08:42:47.867Z"
   },
   {
    "duration": 177,
    "start_time": "2022-09-28T08:42:52.694Z"
   },
   {
    "duration": 190,
    "start_time": "2022-09-28T08:42:57.909Z"
   },
   {
    "duration": 207,
    "start_time": "2022-09-28T08:43:05.606Z"
   },
   {
    "duration": 189,
    "start_time": "2022-09-28T08:45:31.706Z"
   },
   {
    "duration": 272,
    "start_time": "2022-09-28T08:45:35.708Z"
   },
   {
    "duration": 194,
    "start_time": "2022-09-28T08:45:43.887Z"
   },
   {
    "duration": 1145,
    "start_time": "2022-09-28T08:45:50.006Z"
   },
   {
    "duration": 36,
    "start_time": "2022-09-28T08:45:51.153Z"
   },
   {
    "duration": 12,
    "start_time": "2022-09-28T08:45:51.191Z"
   },
   {
    "duration": 12,
    "start_time": "2022-09-28T08:45:51.205Z"
   },
   {
    "duration": 10,
    "start_time": "2022-09-28T08:45:51.219Z"
   },
   {
    "duration": 70,
    "start_time": "2022-09-28T08:45:51.233Z"
   },
   {
    "duration": 3,
    "start_time": "2022-09-28T08:45:51.305Z"
   },
   {
    "duration": 21,
    "start_time": "2022-09-28T08:45:51.309Z"
   },
   {
    "duration": 39,
    "start_time": "2022-09-28T08:45:51.331Z"
   },
   {
    "duration": 17,
    "start_time": "2022-09-28T08:45:51.372Z"
   },
   {
    "duration": 19,
    "start_time": "2022-09-28T08:45:51.391Z"
   },
   {
    "duration": 305,
    "start_time": "2022-09-28T08:45:51.411Z"
   },
   {
    "duration": 5,
    "start_time": "2022-09-28T08:45:51.718Z"
   },
   {
    "duration": 308,
    "start_time": "2022-09-28T08:45:51.725Z"
   },
   {
    "duration": 197,
    "start_time": "2022-09-28T08:46:03.653Z"
   },
   {
    "duration": 185,
    "start_time": "2022-09-28T08:46:12.805Z"
   },
   {
    "duration": 189,
    "start_time": "2022-09-28T08:46:18.212Z"
   },
   {
    "duration": 205,
    "start_time": "2022-09-28T08:46:25.947Z"
   },
   {
    "duration": 707,
    "start_time": "2022-09-28T08:46:37.868Z"
   },
   {
    "duration": 666,
    "start_time": "2022-09-28T08:46:50.661Z"
   },
   {
    "duration": 312,
    "start_time": "2022-09-28T08:47:09.844Z"
   },
   {
    "duration": 334,
    "start_time": "2022-09-28T08:47:42.849Z"
   },
   {
    "duration": 327,
    "start_time": "2022-09-28T08:48:48.318Z"
   },
   {
    "duration": 1188,
    "start_time": "2022-09-28T08:49:33.659Z"
   },
   {
    "duration": 38,
    "start_time": "2022-09-28T08:49:34.850Z"
   },
   {
    "duration": 10,
    "start_time": "2022-09-28T08:49:34.889Z"
   },
   {
    "duration": 12,
    "start_time": "2022-09-28T08:49:34.901Z"
   },
   {
    "duration": 10,
    "start_time": "2022-09-28T08:49:34.914Z"
   },
   {
    "duration": 68,
    "start_time": "2022-09-28T08:49:34.926Z"
   },
   {
    "duration": 3,
    "start_time": "2022-09-28T08:49:34.996Z"
   },
   {
    "duration": 17,
    "start_time": "2022-09-28T08:49:35.001Z"
   },
   {
    "duration": 34,
    "start_time": "2022-09-28T08:49:35.019Z"
   },
   {
    "duration": 18,
    "start_time": "2022-09-28T08:49:35.062Z"
   },
   {
    "duration": 9,
    "start_time": "2022-09-28T08:49:35.082Z"
   },
   {
    "duration": 336,
    "start_time": "2022-09-28T08:49:35.093Z"
   },
   {
    "duration": 15,
    "start_time": "2022-09-28T08:49:35.431Z"
   },
   {
    "duration": 458,
    "start_time": "2022-09-28T08:49:35.448Z"
   },
   {
    "duration": 214,
    "start_time": "2022-09-28T08:49:53.069Z"
   },
   {
    "duration": 1251,
    "start_time": "2022-09-28T08:50:36.005Z"
   },
   {
    "duration": 44,
    "start_time": "2022-09-28T08:50:37.258Z"
   },
   {
    "duration": 12,
    "start_time": "2022-09-28T08:50:37.304Z"
   },
   {
    "duration": 12,
    "start_time": "2022-09-28T08:50:37.318Z"
   },
   {
    "duration": 38,
    "start_time": "2022-09-28T08:50:37.332Z"
   },
   {
    "duration": 65,
    "start_time": "2022-09-28T08:50:37.375Z"
   },
   {
    "duration": 11,
    "start_time": "2022-09-28T08:50:37.448Z"
   },
   {
    "duration": 30,
    "start_time": "2022-09-28T08:50:37.460Z"
   },
   {
    "duration": 21,
    "start_time": "2022-09-28T08:50:37.492Z"
   },
   {
    "duration": 12,
    "start_time": "2022-09-28T08:50:37.515Z"
   },
   {
    "duration": 44,
    "start_time": "2022-09-28T08:50:37.529Z"
   },
   {
    "duration": 316,
    "start_time": "2022-09-28T08:50:37.575Z"
   },
   {
    "duration": 6,
    "start_time": "2022-09-28T08:50:37.893Z"
   },
   {
    "duration": 381,
    "start_time": "2022-09-28T08:50:37.901Z"
   },
   {
    "duration": 322,
    "start_time": "2022-09-28T08:51:18.956Z"
   },
   {
    "duration": 4,
    "start_time": "2022-09-28T08:52:30.097Z"
   },
   {
    "duration": 1114,
    "start_time": "2022-09-28T08:52:34.901Z"
   },
   {
    "duration": 48,
    "start_time": "2022-09-28T08:52:36.018Z"
   },
   {
    "duration": 13,
    "start_time": "2022-09-28T08:52:36.068Z"
   },
   {
    "duration": 26,
    "start_time": "2022-09-28T08:52:36.083Z"
   },
   {
    "duration": 13,
    "start_time": "2022-09-28T08:52:36.112Z"
   },
   {
    "duration": 120,
    "start_time": "2022-09-28T08:52:36.126Z"
   },
   {
    "duration": 10,
    "start_time": "2022-09-28T08:52:36.252Z"
   },
   {
    "duration": 41,
    "start_time": "2022-09-28T08:52:36.264Z"
   },
   {
    "duration": 43,
    "start_time": "2022-09-28T08:52:36.307Z"
   },
   {
    "duration": 42,
    "start_time": "2022-09-28T08:52:36.352Z"
   },
   {
    "duration": 30,
    "start_time": "2022-09-28T08:52:36.396Z"
   },
   {
    "duration": 359,
    "start_time": "2022-09-28T08:52:36.431Z"
   },
   {
    "duration": 6,
    "start_time": "2022-09-28T08:52:36.792Z"
   },
   {
    "duration": 394,
    "start_time": "2022-09-28T08:52:36.800Z"
   },
   {
    "duration": 3,
    "start_time": "2022-09-28T08:53:11.370Z"
   },
   {
    "duration": 651,
    "start_time": "2022-09-28T08:53:15.559Z"
   },
   {
    "duration": 52,
    "start_time": "2022-09-28T08:53:16.212Z"
   },
   {
    "duration": 15,
    "start_time": "2022-09-28T08:53:16.266Z"
   },
   {
    "duration": 16,
    "start_time": "2022-09-28T08:53:16.287Z"
   },
   {
    "duration": 18,
    "start_time": "2022-09-28T08:53:16.306Z"
   },
   {
    "duration": 79,
    "start_time": "2022-09-28T08:53:16.326Z"
   },
   {
    "duration": 4,
    "start_time": "2022-09-28T08:53:16.407Z"
   },
   {
    "duration": 62,
    "start_time": "2022-09-28T08:53:16.413Z"
   },
   {
    "duration": 27,
    "start_time": "2022-09-28T08:53:16.477Z"
   },
   {
    "duration": 28,
    "start_time": "2022-09-28T08:53:16.506Z"
   },
   {
    "duration": 52,
    "start_time": "2022-09-28T08:53:16.536Z"
   },
   {
    "duration": 319,
    "start_time": "2022-09-28T08:53:16.591Z"
   },
   {
    "duration": 7,
    "start_time": "2022-09-28T08:53:16.911Z"
   },
   {
    "duration": 397,
    "start_time": "2022-09-28T08:53:16.920Z"
   },
   {
    "duration": 225,
    "start_time": "2022-09-28T08:53:40.795Z"
   },
   {
    "duration": 105,
    "start_time": "2022-09-28T09:03:33.393Z"
   },
   {
    "duration": 75,
    "start_time": "2022-09-28T09:03:46.902Z"
   },
   {
    "duration": 219,
    "start_time": "2022-09-28T09:04:04.566Z"
   },
   {
    "duration": 273,
    "start_time": "2022-09-28T09:04:43.807Z"
   },
   {
    "duration": 700,
    "start_time": "2022-09-28T09:09:02.055Z"
   },
   {
    "duration": 37,
    "start_time": "2022-09-28T09:09:02.757Z"
   },
   {
    "duration": 14,
    "start_time": "2022-09-28T09:09:02.797Z"
   },
   {
    "duration": 16,
    "start_time": "2022-09-28T09:09:02.813Z"
   },
   {
    "duration": 27,
    "start_time": "2022-09-28T09:09:02.832Z"
   },
   {
    "duration": 78,
    "start_time": "2022-09-28T09:09:02.867Z"
   },
   {
    "duration": 4,
    "start_time": "2022-09-28T09:09:02.953Z"
   },
   {
    "duration": 40,
    "start_time": "2022-09-28T09:09:02.959Z"
   },
   {
    "duration": 31,
    "start_time": "2022-09-28T09:09:03.001Z"
   },
   {
    "duration": 60,
    "start_time": "2022-09-28T09:09:03.036Z"
   },
   {
    "duration": 13,
    "start_time": "2022-09-28T09:09:03.098Z"
   },
   {
    "duration": 365,
    "start_time": "2022-09-28T09:09:03.112Z"
   },
   {
    "duration": 6,
    "start_time": "2022-09-28T09:09:03.479Z"
   },
   {
    "duration": 335,
    "start_time": "2022-09-28T09:09:03.487Z"
   },
   {
    "duration": 247,
    "start_time": "2022-09-28T09:09:03.823Z"
   },
   {
    "duration": 171,
    "start_time": "2022-09-28T09:13:40.640Z"
   },
   {
    "duration": 366,
    "start_time": "2022-09-28T09:15:39.633Z"
   },
   {
    "duration": 292,
    "start_time": "2022-09-28T09:15:49.089Z"
   },
   {
    "duration": 85,
    "start_time": "2022-09-28T09:30:08.820Z"
   },
   {
    "duration": 201,
    "start_time": "2022-09-28T09:32:20.538Z"
   },
   {
    "duration": 220,
    "start_time": "2022-09-28T09:32:34.685Z"
   },
   {
    "duration": 14,
    "start_time": "2022-09-28T09:40:37.395Z"
   },
   {
    "duration": 307,
    "start_time": "2022-09-28T09:40:49.689Z"
   },
   {
    "duration": 320,
    "start_time": "2022-09-28T09:41:18.815Z"
   },
   {
    "duration": 274,
    "start_time": "2022-09-28T09:41:48.953Z"
   },
   {
    "duration": 301,
    "start_time": "2022-09-28T09:42:18.948Z"
   },
   {
    "duration": 332,
    "start_time": "2022-09-28T09:46:47.119Z"
   },
   {
    "duration": 9,
    "start_time": "2022-09-28T11:13:55.842Z"
   },
   {
    "duration": 148,
    "start_time": "2022-09-28T11:16:02.082Z"
   },
   {
    "duration": 186,
    "start_time": "2022-09-28T11:18:27.418Z"
   },
   {
    "duration": 124,
    "start_time": "2022-09-28T11:19:15.742Z"
   },
   {
    "duration": 131,
    "start_time": "2022-09-28T11:20:02.204Z"
   },
   {
    "duration": 7,
    "start_time": "2022-09-28T11:20:36.883Z"
   },
   {
    "duration": 8,
    "start_time": "2022-09-28T11:20:41.263Z"
   },
   {
    "duration": 9,
    "start_time": "2022-09-28T11:21:04.086Z"
   },
   {
    "duration": 6,
    "start_time": "2022-09-28T11:22:57.757Z"
   },
   {
    "duration": 117,
    "start_time": "2022-09-28T11:26:10.866Z"
   },
   {
    "duration": 6,
    "start_time": "2022-09-28T11:29:27.307Z"
   },
   {
    "duration": 6,
    "start_time": "2022-09-28T11:38:19.763Z"
   },
   {
    "duration": 646,
    "start_time": "2022-09-28T11:42:05.984Z"
   },
   {
    "duration": 35,
    "start_time": "2022-09-28T11:42:06.632Z"
   },
   {
    "duration": 13,
    "start_time": "2022-09-28T11:42:06.668Z"
   },
   {
    "duration": 12,
    "start_time": "2022-09-28T11:42:06.683Z"
   },
   {
    "duration": 11,
    "start_time": "2022-09-28T11:42:06.696Z"
   },
   {
    "duration": 63,
    "start_time": "2022-09-28T11:42:06.709Z"
   },
   {
    "duration": 3,
    "start_time": "2022-09-28T11:42:06.773Z"
   },
   {
    "duration": 23,
    "start_time": "2022-09-28T11:42:06.778Z"
   },
   {
    "duration": 15,
    "start_time": "2022-09-28T11:42:06.803Z"
   },
   {
    "duration": 13,
    "start_time": "2022-09-28T11:42:06.820Z"
   },
   {
    "duration": 10,
    "start_time": "2022-09-28T11:42:06.834Z"
   },
   {
    "duration": 276,
    "start_time": "2022-09-28T11:42:06.845Z"
   },
   {
    "duration": 14,
    "start_time": "2022-09-28T11:42:07.123Z"
   },
   {
    "duration": 280,
    "start_time": "2022-09-28T11:42:07.138Z"
   },
   {
    "duration": 219,
    "start_time": "2022-09-28T11:42:07.420Z"
   },
   {
    "duration": 298,
    "start_time": "2022-09-28T11:42:07.641Z"
   },
   {
    "duration": 279,
    "start_time": "2022-09-28T11:42:07.941Z"
   },
   {
    "duration": 316,
    "start_time": "2022-09-28T11:42:08.222Z"
   },
   {
    "duration": 8,
    "start_time": "2022-09-28T11:42:08.539Z"
   },
   {
    "duration": 128,
    "start_time": "2022-09-28T11:42:08.549Z"
   },
   {
    "duration": 5,
    "start_time": "2022-09-28T11:42:08.679Z"
   },
   {
    "duration": 162,
    "start_time": "2022-09-28T11:42:08.685Z"
   },
   {
    "duration": 4,
    "start_time": "2022-09-28T11:42:08.849Z"
   },
   {
    "duration": 266,
    "start_time": "2022-09-28T11:45:47.345Z"
   },
   {
    "duration": 581,
    "start_time": "2022-09-28T11:45:52.678Z"
   },
   {
    "duration": 36,
    "start_time": "2022-09-28T11:45:53.261Z"
   },
   {
    "duration": 16,
    "start_time": "2022-09-28T11:45:53.299Z"
   },
   {
    "duration": 15,
    "start_time": "2022-09-28T11:45:53.317Z"
   },
   {
    "duration": 10,
    "start_time": "2022-09-28T11:45:53.333Z"
   },
   {
    "duration": 55,
    "start_time": "2022-09-28T11:45:53.345Z"
   },
   {
    "duration": 4,
    "start_time": "2022-09-28T11:45:53.401Z"
   },
   {
    "duration": 20,
    "start_time": "2022-09-28T11:45:53.406Z"
   },
   {
    "duration": 21,
    "start_time": "2022-09-28T11:45:53.428Z"
   },
   {
    "duration": 13,
    "start_time": "2022-09-28T11:45:53.452Z"
   },
   {
    "duration": 8,
    "start_time": "2022-09-28T11:45:53.467Z"
   },
   {
    "duration": 298,
    "start_time": "2022-09-28T11:45:53.477Z"
   },
   {
    "duration": 6,
    "start_time": "2022-09-28T11:45:53.777Z"
   },
   {
    "duration": 281,
    "start_time": "2022-09-28T11:45:53.784Z"
   },
   {
    "duration": 216,
    "start_time": "2022-09-28T11:45:54.067Z"
   },
   {
    "duration": 298,
    "start_time": "2022-09-28T11:45:54.285Z"
   },
   {
    "duration": 269,
    "start_time": "2022-09-28T11:45:54.585Z"
   },
   {
    "duration": 321,
    "start_time": "2022-09-28T11:45:54.856Z"
   },
   {
    "duration": 9,
    "start_time": "2022-09-28T11:45:55.178Z"
   },
   {
    "duration": 131,
    "start_time": "2022-09-28T11:45:55.189Z"
   },
   {
    "duration": 12,
    "start_time": "2022-09-28T11:45:55.322Z"
   },
   {
    "duration": 140,
    "start_time": "2022-09-28T11:45:55.336Z"
   },
   {
    "duration": 5,
    "start_time": "2022-09-28T11:45:55.478Z"
   },
   {
    "duration": 51,
    "start_time": "2022-09-28T11:59:22.318Z"
   },
   {
    "duration": 49,
    "start_time": "2022-09-28T12:00:13.725Z"
   },
   {
    "duration": 97,
    "start_time": "2022-09-28T12:00:41.305Z"
   },
   {
    "duration": 71,
    "start_time": "2022-09-28T12:01:34.676Z"
   },
   {
    "duration": 81,
    "start_time": "2022-09-28T12:02:19.421Z"
   },
   {
    "duration": 4,
    "start_time": "2022-09-28T12:02:57.768Z"
   },
   {
    "duration": 67,
    "start_time": "2022-09-28T12:03:21.490Z"
   },
   {
    "duration": 110,
    "start_time": "2022-09-28T12:04:08.763Z"
   },
   {
    "duration": 66,
    "start_time": "2022-09-28T12:04:16.452Z"
   },
   {
    "duration": 220,
    "start_time": "2022-09-28T12:04:23.132Z"
   },
   {
    "duration": 68,
    "start_time": "2022-09-28T12:04:29.694Z"
   },
   {
    "duration": 184,
    "start_time": "2022-09-28T12:04:58.512Z"
   },
   {
    "duration": 1489,
    "start_time": "2022-09-28T12:05:35.469Z"
   },
   {
    "duration": 138,
    "start_time": "2022-09-28T12:14:03.173Z"
   },
   {
    "duration": 55,
    "start_time": "2022-09-28T12:34:55.656Z"
   },
   {
    "duration": 173,
    "start_time": "2022-09-28T12:35:11.468Z"
   },
   {
    "duration": 1176,
    "start_time": "2022-09-28T12:36:25.500Z"
   },
   {
    "duration": 35,
    "start_time": "2022-09-28T12:36:26.678Z"
   },
   {
    "duration": 11,
    "start_time": "2022-09-28T12:36:26.714Z"
   },
   {
    "duration": 20,
    "start_time": "2022-09-28T12:36:26.727Z"
   },
   {
    "duration": 19,
    "start_time": "2022-09-28T12:36:26.748Z"
   },
   {
    "duration": 54,
    "start_time": "2022-09-28T12:36:26.769Z"
   },
   {
    "duration": 3,
    "start_time": "2022-09-28T12:36:26.825Z"
   },
   {
    "duration": 28,
    "start_time": "2022-09-28T12:36:26.829Z"
   },
   {
    "duration": 15,
    "start_time": "2022-09-28T12:36:26.860Z"
   },
   {
    "duration": 13,
    "start_time": "2022-09-28T12:36:26.877Z"
   },
   {
    "duration": 19,
    "start_time": "2022-09-28T12:36:26.891Z"
   },
   {
    "duration": 288,
    "start_time": "2022-09-28T12:36:26.912Z"
   },
   {
    "duration": 7,
    "start_time": "2022-09-28T12:36:27.201Z"
   },
   {
    "duration": 293,
    "start_time": "2022-09-28T12:36:27.209Z"
   },
   {
    "duration": 225,
    "start_time": "2022-09-28T12:36:27.504Z"
   },
   {
    "duration": 324,
    "start_time": "2022-09-28T12:36:27.730Z"
   },
   {
    "duration": 269,
    "start_time": "2022-09-28T12:36:28.056Z"
   },
   {
    "duration": 325,
    "start_time": "2022-09-28T12:36:28.327Z"
   },
   {
    "duration": 9,
    "start_time": "2022-09-28T12:36:28.654Z"
   },
   {
    "duration": 131,
    "start_time": "2022-09-28T12:36:28.665Z"
   },
   {
    "duration": 6,
    "start_time": "2022-09-28T12:36:28.798Z"
   },
   {
    "duration": 155,
    "start_time": "2022-09-28T12:36:28.806Z"
   },
   {
    "duration": 5,
    "start_time": "2022-09-28T12:36:28.963Z"
   },
   {
    "duration": 187,
    "start_time": "2022-09-28T12:36:28.969Z"
   },
   {
    "duration": 22,
    "start_time": "2022-09-28T12:36:29.158Z"
   },
   {
    "duration": 154,
    "start_time": "2022-09-28T12:38:40.245Z"
   },
   {
    "duration": 154,
    "start_time": "2022-09-28T12:38:49.546Z"
   },
   {
    "duration": 193,
    "start_time": "2022-09-28T12:38:58.455Z"
   },
   {
    "duration": 166,
    "start_time": "2022-09-28T12:39:04.821Z"
   },
   {
    "duration": 117,
    "start_time": "2022-09-28T12:40:05.484Z"
   },
   {
    "duration": 105,
    "start_time": "2022-09-28T12:40:28.125Z"
   },
   {
    "duration": 76,
    "start_time": "2022-09-28T12:40:39.232Z"
   },
   {
    "duration": 234,
    "start_time": "2022-09-28T12:40:54.773Z"
   },
   {
    "duration": 23,
    "start_time": "2022-09-28T12:41:09.870Z"
   },
   {
    "duration": 152,
    "start_time": "2022-09-28T12:41:20.769Z"
   },
   {
    "duration": 24,
    "start_time": "2022-09-28T12:47:10.625Z"
   },
   {
    "duration": 10,
    "start_time": "2022-09-28T12:50:26.497Z"
   },
   {
    "duration": 7,
    "start_time": "2022-09-28T12:50:51.993Z"
   },
   {
    "duration": 10,
    "start_time": "2022-09-28T12:51:05.167Z"
   },
   {
    "duration": 6,
    "start_time": "2022-09-28T12:52:57.660Z"
   },
   {
    "duration": 8,
    "start_time": "2022-09-28T12:53:18.875Z"
   },
   {
    "duration": 6,
    "start_time": "2022-09-28T12:53:35.149Z"
   },
   {
    "duration": 7,
    "start_time": "2022-09-28T12:55:05.763Z"
   },
   {
    "duration": 12,
    "start_time": "2022-09-28T12:57:51.213Z"
   },
   {
    "duration": 1078,
    "start_time": "2022-09-28T13:00:19.967Z"
   },
   {
    "duration": 37,
    "start_time": "2022-09-28T13:00:21.048Z"
   },
   {
    "duration": 11,
    "start_time": "2022-09-28T13:00:21.087Z"
   },
   {
    "duration": 12,
    "start_time": "2022-09-28T13:00:21.100Z"
   },
   {
    "duration": 10,
    "start_time": "2022-09-28T13:00:21.113Z"
   },
   {
    "duration": 71,
    "start_time": "2022-09-28T13:00:21.125Z"
   },
   {
    "duration": 3,
    "start_time": "2022-09-28T13:00:21.197Z"
   },
   {
    "duration": 19,
    "start_time": "2022-09-28T13:00:21.201Z"
   },
   {
    "duration": 30,
    "start_time": "2022-09-28T13:00:21.222Z"
   },
   {
    "duration": 14,
    "start_time": "2022-09-28T13:00:21.255Z"
   },
   {
    "duration": 13,
    "start_time": "2022-09-28T13:00:21.271Z"
   },
   {
    "duration": 288,
    "start_time": "2022-09-28T13:00:21.285Z"
   },
   {
    "duration": 6,
    "start_time": "2022-09-28T13:00:21.574Z"
   },
   {
    "duration": 304,
    "start_time": "2022-09-28T13:00:21.581Z"
   },
   {
    "duration": 215,
    "start_time": "2022-09-28T13:00:21.887Z"
   },
   {
    "duration": 375,
    "start_time": "2022-09-28T13:00:22.104Z"
   },
   {
    "duration": 244,
    "start_time": "2022-09-28T13:00:22.481Z"
   },
   {
    "duration": 317,
    "start_time": "2022-09-28T13:00:22.727Z"
   },
   {
    "duration": 9,
    "start_time": "2022-09-28T13:00:23.046Z"
   },
   {
    "duration": 139,
    "start_time": "2022-09-28T13:00:23.057Z"
   },
   {
    "duration": 6,
    "start_time": "2022-09-28T13:00:23.198Z"
   },
   {
    "duration": 154,
    "start_time": "2022-09-28T13:00:23.205Z"
   },
   {
    "duration": 5,
    "start_time": "2022-09-28T13:00:23.361Z"
   },
   {
    "duration": 165,
    "start_time": "2022-09-28T13:00:23.367Z"
   },
   {
    "duration": 31,
    "start_time": "2022-09-28T13:00:23.534Z"
   },
   {
    "duration": 7,
    "start_time": "2022-09-28T13:08:59.662Z"
   },
   {
    "duration": 7,
    "start_time": "2022-09-28T13:10:23.058Z"
   },
   {
    "duration": 10,
    "start_time": "2022-09-28T13:10:31.682Z"
   },
   {
    "duration": 5,
    "start_time": "2022-09-28T13:12:23.649Z"
   },
   {
    "duration": 4,
    "start_time": "2022-09-28T13:12:29.185Z"
   },
   {
    "duration": 7,
    "start_time": "2022-09-28T13:13:23.696Z"
   },
   {
    "duration": 6,
    "start_time": "2022-09-28T13:15:57.051Z"
   },
   {
    "duration": 101,
    "start_time": "2022-09-28T13:16:57.702Z"
   },
   {
    "duration": 11,
    "start_time": "2022-09-28T13:17:13.145Z"
   },
   {
    "duration": 11,
    "start_time": "2022-09-28T13:17:23.500Z"
   },
   {
    "duration": 10,
    "start_time": "2022-09-28T13:18:03.033Z"
   },
   {
    "duration": 7,
    "start_time": "2022-09-28T13:18:17.353Z"
   },
   {
    "duration": 5,
    "start_time": "2022-09-28T13:18:25.584Z"
   },
   {
    "duration": 8,
    "start_time": "2022-09-28T13:18:30.746Z"
   },
   {
    "duration": 1111,
    "start_time": "2022-09-28T13:23:19.349Z"
   },
   {
    "duration": 38,
    "start_time": "2022-09-28T13:23:20.462Z"
   },
   {
    "duration": 14,
    "start_time": "2022-09-28T13:23:20.502Z"
   },
   {
    "duration": 21,
    "start_time": "2022-09-28T13:23:20.517Z"
   },
   {
    "duration": 17,
    "start_time": "2022-09-28T13:23:20.540Z"
   },
   {
    "duration": 54,
    "start_time": "2022-09-28T13:23:20.558Z"
   },
   {
    "duration": 4,
    "start_time": "2022-09-28T13:23:20.614Z"
   },
   {
    "duration": 29,
    "start_time": "2022-09-28T13:23:20.619Z"
   },
   {
    "duration": 26,
    "start_time": "2022-09-28T13:23:20.649Z"
   },
   {
    "duration": 18,
    "start_time": "2022-09-28T13:23:20.677Z"
   },
   {
    "duration": 15,
    "start_time": "2022-09-28T13:23:20.696Z"
   },
   {
    "duration": 6,
    "start_time": "2022-09-28T13:23:20.712Z"
   },
   {
    "duration": 11,
    "start_time": "2022-09-28T13:23:20.720Z"
   },
   {
    "duration": 26,
    "start_time": "2022-09-28T13:23:20.734Z"
   },
   {
    "duration": 13,
    "start_time": "2022-09-28T13:23:20.761Z"
   },
   {
    "duration": 280,
    "start_time": "2022-09-28T13:23:20.775Z"
   },
   {
    "duration": 5,
    "start_time": "2022-09-28T13:23:21.057Z"
   },
   {
    "duration": 299,
    "start_time": "2022-09-28T13:23:21.064Z"
   },
   {
    "duration": 209,
    "start_time": "2022-09-28T13:23:21.365Z"
   },
   {
    "duration": 294,
    "start_time": "2022-09-28T13:23:21.576Z"
   },
   {
    "duration": 234,
    "start_time": "2022-09-28T13:23:21.871Z"
   },
   {
    "duration": 344,
    "start_time": "2022-09-28T13:23:22.107Z"
   },
   {
    "duration": 9,
    "start_time": "2022-09-28T13:23:22.453Z"
   },
   {
    "duration": 138,
    "start_time": "2022-09-28T13:23:22.464Z"
   },
   {
    "duration": 5,
    "start_time": "2022-09-28T13:23:22.604Z"
   },
   {
    "duration": 151,
    "start_time": "2022-09-28T13:23:22.610Z"
   },
   {
    "duration": 4,
    "start_time": "2022-09-28T13:23:22.762Z"
   },
   {
    "duration": 171,
    "start_time": "2022-09-28T13:23:22.768Z"
   },
   {
    "duration": 24,
    "start_time": "2022-09-28T13:23:22.944Z"
   },
   {
    "duration": 66,
    "start_time": "2022-09-28T13:25:38.122Z"
   },
   {
    "duration": 156,
    "start_time": "2022-09-28T13:25:45.830Z"
   },
   {
    "duration": 157,
    "start_time": "2022-09-28T13:25:57.008Z"
   },
   {
    "duration": 1241,
    "start_time": "2022-09-29T08:42:22.116Z"
   },
   {
    "duration": 78,
    "start_time": "2022-09-29T08:42:23.359Z"
   },
   {
    "duration": 10,
    "start_time": "2022-09-29T08:42:23.439Z"
   },
   {
    "duration": 10,
    "start_time": "2022-09-29T08:42:23.451Z"
   },
   {
    "duration": 10,
    "start_time": "2022-09-29T08:42:23.462Z"
   },
   {
    "duration": 128,
    "start_time": "2022-09-29T08:42:23.473Z"
   },
   {
    "duration": 3,
    "start_time": "2022-09-29T08:42:23.603Z"
   },
   {
    "duration": 21,
    "start_time": "2022-09-29T08:42:23.608Z"
   },
   {
    "duration": 24,
    "start_time": "2022-09-29T08:42:23.631Z"
   },
   {
    "duration": 15,
    "start_time": "2022-09-29T08:42:23.658Z"
   },
   {
    "duration": 13,
    "start_time": "2022-09-29T08:42:23.674Z"
   },
   {
    "duration": 11,
    "start_time": "2022-09-29T08:42:23.689Z"
   },
   {
    "duration": 6,
    "start_time": "2022-09-29T08:42:23.701Z"
   },
   {
    "duration": 19,
    "start_time": "2022-09-29T08:42:23.708Z"
   },
   {
    "duration": 5,
    "start_time": "2022-09-29T08:42:23.730Z"
   },
   {
    "duration": 268,
    "start_time": "2022-09-29T08:42:23.737Z"
   },
   {
    "duration": 6,
    "start_time": "2022-09-29T08:42:24.007Z"
   },
   {
    "duration": 292,
    "start_time": "2022-09-29T08:42:24.015Z"
   },
   {
    "duration": 200,
    "start_time": "2022-09-29T08:42:24.309Z"
   },
   {
    "duration": 352,
    "start_time": "2022-09-29T08:42:24.510Z"
   },
   {
    "duration": 224,
    "start_time": "2022-09-29T08:42:24.864Z"
   },
   {
    "duration": 328,
    "start_time": "2022-09-29T08:42:25.090Z"
   },
   {
    "duration": 8,
    "start_time": "2022-09-29T08:42:25.422Z"
   },
   {
    "duration": 129,
    "start_time": "2022-09-29T08:42:25.433Z"
   },
   {
    "duration": 4,
    "start_time": "2022-09-29T08:42:25.564Z"
   },
   {
    "duration": 132,
    "start_time": "2022-09-29T08:42:25.570Z"
   },
   {
    "duration": 4,
    "start_time": "2022-09-29T08:42:25.704Z"
   },
   {
    "duration": 157,
    "start_time": "2022-09-29T08:42:25.721Z"
   },
   {
    "duration": 19,
    "start_time": "2022-09-29T08:42:25.880Z"
   },
   {
    "duration": 71,
    "start_time": "2022-09-29T08:52:59.269Z"
   },
   {
    "duration": 75,
    "start_time": "2022-09-29T08:53:49.037Z"
   },
   {
    "duration": 144,
    "start_time": "2022-09-29T08:55:02.445Z"
   },
   {
    "duration": 69,
    "start_time": "2022-09-29T08:55:28.645Z"
   },
   {
    "duration": 12,
    "start_time": "2022-09-29T08:56:24.246Z"
   },
   {
    "duration": 90,
    "start_time": "2022-09-29T09:10:14.786Z"
   },
   {
    "duration": 72,
    "start_time": "2022-09-29T09:23:59.532Z"
   },
   {
    "duration": 109,
    "start_time": "2022-09-29T09:24:20.338Z"
   },
   {
    "duration": 4,
    "start_time": "2022-09-29T09:29:15.941Z"
   },
   {
    "duration": 1348,
    "start_time": "2022-09-29T09:29:49.956Z"
   },
   {
    "duration": 6,
    "start_time": "2022-09-29T09:31:07.333Z"
   },
   {
    "duration": 8,
    "start_time": "2022-09-29T09:31:33.876Z"
   },
   {
    "duration": 11,
    "start_time": "2022-09-29T09:37:16.065Z"
   },
   {
    "duration": 9,
    "start_time": "2022-09-29T09:37:30.275Z"
   },
   {
    "duration": 9,
    "start_time": "2022-09-29T09:40:23.896Z"
   },
   {
    "duration": 4,
    "start_time": "2022-09-29T09:40:36.495Z"
   },
   {
    "duration": 5,
    "start_time": "2022-09-29T09:40:43.033Z"
   },
   {
    "duration": 1010,
    "start_time": "2022-09-29T09:41:58.877Z"
   },
   {
    "duration": 44,
    "start_time": "2022-09-29T09:41:59.889Z"
   },
   {
    "duration": 12,
    "start_time": "2022-09-29T09:41:59.935Z"
   },
   {
    "duration": 10,
    "start_time": "2022-09-29T09:41:59.949Z"
   },
   {
    "duration": 10,
    "start_time": "2022-09-29T09:41:59.960Z"
   },
   {
    "duration": 52,
    "start_time": "2022-09-29T09:41:59.971Z"
   },
   {
    "duration": 2,
    "start_time": "2022-09-29T09:42:00.025Z"
   },
   {
    "duration": 27,
    "start_time": "2022-09-29T09:42:00.029Z"
   },
   {
    "duration": 16,
    "start_time": "2022-09-29T09:42:00.058Z"
   },
   {
    "duration": 11,
    "start_time": "2022-09-29T09:42:00.077Z"
   },
   {
    "duration": 29,
    "start_time": "2022-09-29T09:42:00.089Z"
   },
   {
    "duration": 6,
    "start_time": "2022-09-29T09:42:00.119Z"
   },
   {
    "duration": 12,
    "start_time": "2022-09-29T09:42:00.126Z"
   },
   {
    "duration": 23,
    "start_time": "2022-09-29T09:42:00.140Z"
   },
   {
    "duration": 9,
    "start_time": "2022-09-29T09:42:00.164Z"
   },
   {
    "duration": 250,
    "start_time": "2022-09-29T09:42:00.174Z"
   },
   {
    "duration": 6,
    "start_time": "2022-09-29T09:42:00.426Z"
   },
   {
    "duration": 260,
    "start_time": "2022-09-29T09:42:00.434Z"
   },
   {
    "duration": 199,
    "start_time": "2022-09-29T09:42:00.695Z"
   },
   {
    "duration": 318,
    "start_time": "2022-09-29T09:42:00.896Z"
   },
   {
    "duration": 206,
    "start_time": "2022-09-29T09:42:01.221Z"
   },
   {
    "duration": 286,
    "start_time": "2022-09-29T09:42:01.428Z"
   },
   {
    "duration": 116,
    "start_time": "2022-09-29T09:42:01.716Z"
   },
   {
    "duration": 5,
    "start_time": "2022-09-29T09:42:01.833Z"
   },
   {
    "duration": 129,
    "start_time": "2022-09-29T09:42:01.839Z"
   },
   {
    "duration": 5,
    "start_time": "2022-09-29T09:42:01.969Z"
   },
   {
    "duration": 157,
    "start_time": "2022-09-29T09:42:01.975Z"
   },
   {
    "duration": 9,
    "start_time": "2022-09-29T09:42:02.135Z"
   },
   {
    "duration": 21,
    "start_time": "2022-09-29T09:42:02.146Z"
   },
   {
    "duration": 152,
    "start_time": "2022-09-29T09:56:40.852Z"
   },
   {
    "duration": 8,
    "start_time": "2022-09-29T09:57:52.835Z"
   },
   {
    "duration": 104,
    "start_time": "2022-09-29T09:58:29.176Z"
   },
   {
    "duration": 9,
    "start_time": "2022-09-29T09:58:59.066Z"
   },
   {
    "duration": 22,
    "start_time": "2022-09-29T10:02:41.180Z"
   },
   {
    "duration": 17,
    "start_time": "2022-09-29T10:28:13.936Z"
   },
   {
    "duration": 15,
    "start_time": "2022-09-29T12:47:13.603Z"
   },
   {
    "duration": 16,
    "start_time": "2022-09-29T12:47:45.848Z"
   },
   {
    "duration": 11,
    "start_time": "2022-09-29T12:48:30.287Z"
   },
   {
    "duration": 4,
    "start_time": "2022-09-29T12:48:38.611Z"
   },
   {
    "duration": 7,
    "start_time": "2022-09-29T12:51:54.492Z"
   },
   {
    "duration": 5,
    "start_time": "2022-09-29T12:52:23.782Z"
   },
   {
    "duration": 7,
    "start_time": "2022-09-29T12:52:51.408Z"
   },
   {
    "duration": 8,
    "start_time": "2022-09-29T12:53:26.900Z"
   },
   {
    "duration": 11,
    "start_time": "2022-09-29T12:54:41.957Z"
   },
   {
    "duration": 7,
    "start_time": "2022-09-29T12:54:51.633Z"
   },
   {
    "duration": 74,
    "start_time": "2022-09-29T12:55:53.547Z"
   },
   {
    "duration": 7,
    "start_time": "2022-09-29T12:56:15.639Z"
   },
   {
    "duration": 11,
    "start_time": "2022-09-29T12:56:26.978Z"
   },
   {
    "duration": 6,
    "start_time": "2022-09-29T12:56:34.758Z"
   },
   {
    "duration": 4,
    "start_time": "2022-09-29T12:57:27.568Z"
   },
   {
    "duration": 4,
    "start_time": "2022-09-29T13:00:19.857Z"
   },
   {
    "duration": 13,
    "start_time": "2022-09-29T13:04:40.470Z"
   },
   {
    "duration": 8,
    "start_time": "2022-09-29T13:07:07.014Z"
   },
   {
    "duration": 8,
    "start_time": "2022-09-29T13:09:01.534Z"
   },
   {
    "duration": 72,
    "start_time": "2022-09-29T13:09:19.344Z"
   },
   {
    "duration": 11,
    "start_time": "2022-09-29T13:09:27.170Z"
   },
   {
    "duration": 4,
    "start_time": "2022-09-29T13:10:41.906Z"
   },
   {
    "duration": 112,
    "start_time": "2022-09-29T13:26:18.540Z"
   },
   {
    "duration": 134,
    "start_time": "2022-09-29T13:26:42.363Z"
   },
   {
    "duration": 1061,
    "start_time": "2022-09-29T13:46:42.937Z"
   },
   {
    "duration": 34,
    "start_time": "2022-09-29T13:46:44.000Z"
   },
   {
    "duration": 11,
    "start_time": "2022-09-29T13:46:44.035Z"
   },
   {
    "duration": 17,
    "start_time": "2022-09-29T13:46:44.048Z"
   },
   {
    "duration": 10,
    "start_time": "2022-09-29T13:46:44.067Z"
   },
   {
    "duration": 53,
    "start_time": "2022-09-29T13:46:44.079Z"
   },
   {
    "duration": 4,
    "start_time": "2022-09-29T13:46:44.133Z"
   },
   {
    "duration": 24,
    "start_time": "2022-09-29T13:46:44.138Z"
   },
   {
    "duration": 14,
    "start_time": "2022-09-29T13:46:44.164Z"
   },
   {
    "duration": 13,
    "start_time": "2022-09-29T13:46:44.179Z"
   },
   {
    "duration": 15,
    "start_time": "2022-09-29T13:46:44.193Z"
   },
   {
    "duration": 15,
    "start_time": "2022-09-29T13:46:44.209Z"
   },
   {
    "duration": 8,
    "start_time": "2022-09-29T13:46:44.226Z"
   },
   {
    "duration": 10,
    "start_time": "2022-09-29T13:46:44.237Z"
   },
   {
    "duration": 9,
    "start_time": "2022-09-29T13:46:44.249Z"
   },
   {
    "duration": 8,
    "start_time": "2022-09-29T13:46:44.260Z"
   },
   {
    "duration": 9,
    "start_time": "2022-09-29T13:46:44.270Z"
   },
   {
    "duration": 274,
    "start_time": "2022-09-29T13:46:44.280Z"
   },
   {
    "duration": 5,
    "start_time": "2022-09-29T13:46:44.556Z"
   },
   {
    "duration": 277,
    "start_time": "2022-09-29T13:46:44.562Z"
   },
   {
    "duration": 194,
    "start_time": "2022-09-29T13:46:44.841Z"
   },
   {
    "duration": 273,
    "start_time": "2022-09-29T13:46:45.037Z"
   },
   {
    "duration": 199,
    "start_time": "2022-09-29T13:46:45.322Z"
   },
   {
    "duration": 280,
    "start_time": "2022-09-29T13:46:45.523Z"
   },
   {
    "duration": 125,
    "start_time": "2022-09-29T13:46:45.804Z"
   },
   {
    "duration": 5,
    "start_time": "2022-09-29T13:46:45.931Z"
   },
   {
    "duration": 165,
    "start_time": "2022-09-29T13:46:45.938Z"
   },
   {
    "duration": 5,
    "start_time": "2022-09-29T13:46:46.105Z"
   },
   {
    "duration": 196,
    "start_time": "2022-09-29T13:46:46.122Z"
   },
   {
    "duration": 8,
    "start_time": "2022-09-29T13:46:46.322Z"
   },
   {
    "duration": 8,
    "start_time": "2022-09-29T13:46:46.331Z"
   },
   {
    "duration": 9,
    "start_time": "2022-09-29T13:46:46.341Z"
   },
   {
    "duration": 12,
    "start_time": "2022-09-29T13:46:46.351Z"
   },
   {
    "duration": 23,
    "start_time": "2022-09-29T13:46:46.364Z"
   },
   {
    "duration": 12,
    "start_time": "2022-09-29T13:46:46.388Z"
   },
   {
    "duration": 1101,
    "start_time": "2022-09-29T20:46:25.457Z"
   },
   {
    "duration": 70,
    "start_time": "2022-09-29T20:46:26.561Z"
   },
   {
    "duration": 12,
    "start_time": "2022-09-29T20:46:26.632Z"
   },
   {
    "duration": 12,
    "start_time": "2022-09-29T20:46:26.647Z"
   },
   {
    "duration": 10,
    "start_time": "2022-09-29T20:46:26.660Z"
   },
   {
    "duration": 133,
    "start_time": "2022-09-29T20:46:26.672Z"
   },
   {
    "duration": 4,
    "start_time": "2022-09-29T20:46:26.807Z"
   },
   {
    "duration": 24,
    "start_time": "2022-09-29T20:46:26.813Z"
   },
   {
    "duration": 41,
    "start_time": "2022-09-29T20:46:26.839Z"
   },
   {
    "duration": 14,
    "start_time": "2022-09-29T20:46:26.882Z"
   },
   {
    "duration": 13,
    "start_time": "2022-09-29T20:46:26.897Z"
   },
   {
    "duration": 9,
    "start_time": "2022-09-29T20:46:26.911Z"
   },
   {
    "duration": 8,
    "start_time": "2022-09-29T20:46:26.921Z"
   },
   {
    "duration": 23,
    "start_time": "2022-09-29T20:46:26.930Z"
   },
   {
    "duration": 10,
    "start_time": "2022-09-29T20:46:26.954Z"
   },
   {
    "duration": 4,
    "start_time": "2022-09-29T20:46:26.966Z"
   },
   {
    "duration": 7,
    "start_time": "2022-09-29T20:46:26.972Z"
   },
   {
    "duration": 273,
    "start_time": "2022-09-29T20:46:26.980Z"
   },
   {
    "duration": 6,
    "start_time": "2022-09-29T20:46:27.254Z"
   },
   {
    "duration": 272,
    "start_time": "2022-09-29T20:46:27.262Z"
   },
   {
    "duration": 186,
    "start_time": "2022-09-29T20:46:27.535Z"
   },
   {
    "duration": 312,
    "start_time": "2022-09-29T20:46:27.723Z"
   },
   {
    "duration": 219,
    "start_time": "2022-09-29T20:46:28.037Z"
   },
   {
    "duration": 305,
    "start_time": "2022-09-29T20:46:28.258Z"
   },
   {
    "duration": 139,
    "start_time": "2022-09-29T20:46:28.565Z"
   },
   {
    "duration": 6,
    "start_time": "2022-09-29T20:46:28.709Z"
   },
   {
    "duration": 199,
    "start_time": "2022-09-29T20:46:28.717Z"
   },
   {
    "duration": 14,
    "start_time": "2022-09-29T20:46:28.920Z"
   },
   {
    "duration": 155,
    "start_time": "2022-09-29T20:46:28.935Z"
   },
   {
    "duration": 9,
    "start_time": "2022-09-29T20:46:29.092Z"
   },
   {
    "duration": 9,
    "start_time": "2022-09-29T20:46:29.103Z"
   },
   {
    "duration": 22,
    "start_time": "2022-09-29T20:46:29.113Z"
   },
   {
    "duration": 9,
    "start_time": "2022-09-29T20:46:29.137Z"
   },
   {
    "duration": 28,
    "start_time": "2022-09-29T20:46:29.148Z"
   },
   {
    "duration": 13,
    "start_time": "2022-09-29T20:46:29.178Z"
   },
   {
    "duration": 1347,
    "start_time": "2022-09-30T06:43:24.108Z"
   },
   {
    "duration": 72,
    "start_time": "2022-09-30T06:43:25.457Z"
   },
   {
    "duration": 12,
    "start_time": "2022-09-30T06:43:25.530Z"
   },
   {
    "duration": 12,
    "start_time": "2022-09-30T06:43:25.544Z"
   },
   {
    "duration": 14,
    "start_time": "2022-09-30T06:43:25.558Z"
   },
   {
    "duration": 146,
    "start_time": "2022-09-30T06:43:25.574Z"
   },
   {
    "duration": 4,
    "start_time": "2022-09-30T06:43:25.721Z"
   },
   {
    "duration": 32,
    "start_time": "2022-09-30T06:43:25.726Z"
   },
   {
    "duration": 19,
    "start_time": "2022-09-30T06:43:25.760Z"
   },
   {
    "duration": 20,
    "start_time": "2022-09-30T06:43:25.781Z"
   },
   {
    "duration": 26,
    "start_time": "2022-09-30T06:43:25.803Z"
   },
   {
    "duration": 15,
    "start_time": "2022-09-30T06:43:25.831Z"
   },
   {
    "duration": 13,
    "start_time": "2022-09-30T06:43:25.848Z"
   },
   {
    "duration": 10,
    "start_time": "2022-09-30T06:43:25.864Z"
   },
   {
    "duration": 8,
    "start_time": "2022-09-30T06:43:25.876Z"
   },
   {
    "duration": 9,
    "start_time": "2022-09-30T06:43:25.886Z"
   },
   {
    "duration": 19,
    "start_time": "2022-09-30T06:43:25.897Z"
   },
   {
    "duration": 306,
    "start_time": "2022-09-30T06:43:25.918Z"
   },
   {
    "duration": 7,
    "start_time": "2022-09-30T06:43:26.226Z"
   },
   {
    "duration": 334,
    "start_time": "2022-09-30T06:43:26.234Z"
   },
   {
    "duration": 229,
    "start_time": "2022-09-30T06:43:26.570Z"
   },
   {
    "duration": 376,
    "start_time": "2022-09-30T06:43:26.801Z"
   },
   {
    "duration": 241,
    "start_time": "2022-09-30T06:43:27.179Z"
   },
   {
    "duration": 324,
    "start_time": "2022-09-30T06:43:27.423Z"
   },
   {
    "duration": 155,
    "start_time": "2022-09-30T06:43:27.750Z"
   },
   {
    "duration": 14,
    "start_time": "2022-09-30T06:43:27.907Z"
   },
   {
    "duration": 151,
    "start_time": "2022-09-30T06:43:27.923Z"
   },
   {
    "duration": 6,
    "start_time": "2022-09-30T06:43:28.076Z"
   },
   {
    "duration": 179,
    "start_time": "2022-09-30T06:43:28.084Z"
   },
   {
    "duration": 12,
    "start_time": "2022-09-30T06:43:28.265Z"
   },
   {
    "duration": 10,
    "start_time": "2022-09-30T06:43:28.279Z"
   },
   {
    "duration": 10,
    "start_time": "2022-09-30T06:43:28.291Z"
   },
   {
    "duration": 15,
    "start_time": "2022-09-30T06:43:28.322Z"
   },
   {
    "duration": 39,
    "start_time": "2022-09-30T06:43:28.339Z"
   },
   {
    "duration": 14,
    "start_time": "2022-09-30T06:43:28.381Z"
   },
   {
    "duration": 18,
    "start_time": "2022-09-30T06:45:46.669Z"
   },
   {
    "duration": 105,
    "start_time": "2022-09-30T06:47:09.502Z"
   },
   {
    "duration": 12,
    "start_time": "2022-09-30T06:47:56.918Z"
   },
   {
    "duration": 12,
    "start_time": "2022-09-30T06:48:14.352Z"
   },
   {
    "duration": 18,
    "start_time": "2022-09-30T06:56:13.518Z"
   },
   {
    "duration": 1099,
    "start_time": "2022-09-30T06:56:50.534Z"
   },
   {
    "duration": 37,
    "start_time": "2022-09-30T06:56:51.636Z"
   },
   {
    "duration": 13,
    "start_time": "2022-09-30T06:56:51.674Z"
   },
   {
    "duration": 53,
    "start_time": "2022-09-30T06:56:51.689Z"
   },
   {
    "duration": 0,
    "start_time": "2022-09-30T06:56:51.745Z"
   },
   {
    "duration": 0,
    "start_time": "2022-09-30T06:56:51.746Z"
   },
   {
    "duration": 0,
    "start_time": "2022-09-30T06:56:51.747Z"
   },
   {
    "duration": 0,
    "start_time": "2022-09-30T06:56:51.748Z"
   },
   {
    "duration": 0,
    "start_time": "2022-09-30T06:56:51.749Z"
   },
   {
    "duration": 0,
    "start_time": "2022-09-30T06:56:51.751Z"
   },
   {
    "duration": 0,
    "start_time": "2022-09-30T06:56:51.752Z"
   },
   {
    "duration": 0,
    "start_time": "2022-09-30T06:56:51.753Z"
   },
   {
    "duration": 0,
    "start_time": "2022-09-30T06:56:51.754Z"
   },
   {
    "duration": 0,
    "start_time": "2022-09-30T06:56:51.755Z"
   },
   {
    "duration": 1,
    "start_time": "2022-09-30T06:56:51.756Z"
   },
   {
    "duration": 0,
    "start_time": "2022-09-30T06:56:51.758Z"
   },
   {
    "duration": 0,
    "start_time": "2022-09-30T06:56:51.759Z"
   },
   {
    "duration": 0,
    "start_time": "2022-09-30T06:56:51.760Z"
   },
   {
    "duration": 0,
    "start_time": "2022-09-30T06:56:51.762Z"
   },
   {
    "duration": 0,
    "start_time": "2022-09-30T06:56:51.763Z"
   },
   {
    "duration": 0,
    "start_time": "2022-09-30T06:56:51.765Z"
   },
   {
    "duration": 0,
    "start_time": "2022-09-30T06:56:51.766Z"
   },
   {
    "duration": 0,
    "start_time": "2022-09-30T06:56:51.768Z"
   },
   {
    "duration": 0,
    "start_time": "2022-09-30T06:56:51.769Z"
   },
   {
    "duration": 0,
    "start_time": "2022-09-30T06:56:51.771Z"
   },
   {
    "duration": 0,
    "start_time": "2022-09-30T06:56:51.772Z"
   },
   {
    "duration": 0,
    "start_time": "2022-09-30T06:56:51.774Z"
   },
   {
    "duration": 0,
    "start_time": "2022-09-30T06:56:51.775Z"
   },
   {
    "duration": 0,
    "start_time": "2022-09-30T06:56:51.777Z"
   },
   {
    "duration": 0,
    "start_time": "2022-09-30T06:56:51.778Z"
   },
   {
    "duration": 0,
    "start_time": "2022-09-30T06:56:51.780Z"
   },
   {
    "duration": 0,
    "start_time": "2022-09-30T06:56:51.781Z"
   },
   {
    "duration": 0,
    "start_time": "2022-09-30T06:56:51.821Z"
   },
   {
    "duration": 0,
    "start_time": "2022-09-30T06:56:51.823Z"
   },
   {
    "duration": 0,
    "start_time": "2022-09-30T06:56:51.825Z"
   },
   {
    "duration": 0,
    "start_time": "2022-09-30T06:56:51.826Z"
   },
   {
    "duration": 0,
    "start_time": "2022-09-30T06:56:51.828Z"
   },
   {
    "duration": 13,
    "start_time": "2022-09-30T06:57:20.948Z"
   },
   {
    "duration": 1654,
    "start_time": "2022-09-30T06:57:42.459Z"
   },
   {
    "duration": 15,
    "start_time": "2022-09-30T06:57:45.349Z"
   },
   {
    "duration": 1542,
    "start_time": "2022-09-30T07:00:15.044Z"
   },
   {
    "duration": 2281,
    "start_time": "2022-09-30T07:00:29.218Z"
   },
   {
    "duration": 3149,
    "start_time": "2022-09-30T07:01:43.911Z"
   },
   {
    "duration": 88,
    "start_time": "2022-09-30T07:03:29.139Z"
   },
   {
    "duration": 108,
    "start_time": "2022-09-30T07:03:39.817Z"
   },
   {
    "duration": 3,
    "start_time": "2022-09-30T07:03:44.154Z"
   },
   {
    "duration": 208,
    "start_time": "2022-09-30T07:04:09.011Z"
   },
   {
    "duration": 19,
    "start_time": "2022-09-30T07:05:39.934Z"
   },
   {
    "duration": 11,
    "start_time": "2022-09-30T07:06:31.614Z"
   },
   {
    "duration": 9,
    "start_time": "2022-09-30T07:19:47.801Z"
   },
   {
    "duration": 1120,
    "start_time": "2022-09-30T07:20:05.829Z"
   },
   {
    "duration": 36,
    "start_time": "2022-09-30T07:20:06.951Z"
   },
   {
    "duration": 13,
    "start_time": "2022-09-30T07:20:06.989Z"
   },
   {
    "duration": 30,
    "start_time": "2022-09-30T07:20:07.004Z"
   },
   {
    "duration": 43,
    "start_time": "2022-09-30T07:20:07.036Z"
   },
   {
    "duration": 34,
    "start_time": "2022-09-30T07:20:07.081Z"
   },
   {
    "duration": 89,
    "start_time": "2022-09-30T07:20:07.116Z"
   },
   {
    "duration": 4,
    "start_time": "2022-09-30T07:20:07.206Z"
   },
   {
    "duration": 35,
    "start_time": "2022-09-30T07:20:07.212Z"
   },
   {
    "duration": 36,
    "start_time": "2022-09-30T07:20:07.249Z"
   },
   {
    "duration": 29,
    "start_time": "2022-09-30T07:20:07.287Z"
   },
   {
    "duration": 32,
    "start_time": "2022-09-30T07:20:07.318Z"
   },
   {
    "duration": 15,
    "start_time": "2022-09-30T07:20:07.352Z"
   },
   {
    "duration": 31,
    "start_time": "2022-09-30T07:20:07.369Z"
   },
   {
    "duration": 31,
    "start_time": "2022-09-30T07:20:07.402Z"
   },
   {
    "duration": 17,
    "start_time": "2022-09-30T07:20:07.435Z"
   },
   {
    "duration": 15,
    "start_time": "2022-09-30T07:20:07.454Z"
   },
   {
    "duration": 9,
    "start_time": "2022-09-30T07:20:07.471Z"
   },
   {
    "duration": 310,
    "start_time": "2022-09-30T07:20:07.482Z"
   },
   {
    "duration": 110,
    "start_time": "2022-09-30T07:20:07.794Z"
   },
   {
    "duration": 0,
    "start_time": "2022-09-30T07:20:07.907Z"
   },
   {
    "duration": 0,
    "start_time": "2022-09-30T07:20:07.909Z"
   },
   {
    "duration": 0,
    "start_time": "2022-09-30T07:20:07.921Z"
   },
   {
    "duration": 0,
    "start_time": "2022-09-30T07:20:07.922Z"
   },
   {
    "duration": 0,
    "start_time": "2022-09-30T07:20:07.923Z"
   },
   {
    "duration": 0,
    "start_time": "2022-09-30T07:20:07.925Z"
   },
   {
    "duration": 0,
    "start_time": "2022-09-30T07:20:07.926Z"
   },
   {
    "duration": 0,
    "start_time": "2022-09-30T07:20:07.929Z"
   },
   {
    "duration": 0,
    "start_time": "2022-09-30T07:20:07.930Z"
   },
   {
    "duration": 0,
    "start_time": "2022-09-30T07:20:07.933Z"
   },
   {
    "duration": 0,
    "start_time": "2022-09-30T07:20:07.934Z"
   },
   {
    "duration": 0,
    "start_time": "2022-09-30T07:20:07.936Z"
   },
   {
    "duration": 0,
    "start_time": "2022-09-30T07:20:07.937Z"
   },
   {
    "duration": 0,
    "start_time": "2022-09-30T07:20:07.939Z"
   },
   {
    "duration": 0,
    "start_time": "2022-09-30T07:20:07.941Z"
   },
   {
    "duration": 0,
    "start_time": "2022-09-30T07:20:07.943Z"
   },
   {
    "duration": 0,
    "start_time": "2022-09-30T07:20:07.944Z"
   },
   {
    "duration": 0,
    "start_time": "2022-09-30T07:20:07.946Z"
   },
   {
    "duration": 9,
    "start_time": "2022-09-30T07:21:09.067Z"
   },
   {
    "duration": 80,
    "start_time": "2022-09-30T07:21:51.395Z"
   },
   {
    "duration": 4,
    "start_time": "2022-09-30T07:21:56.747Z"
   },
   {
    "duration": 4,
    "start_time": "2022-09-30T07:22:03.513Z"
   },
   {
    "duration": 5,
    "start_time": "2022-09-30T07:22:15.989Z"
   },
   {
    "duration": 7,
    "start_time": "2022-09-30T07:22:38.206Z"
   },
   {
    "duration": 7,
    "start_time": "2022-09-30T07:22:58.880Z"
   },
   {
    "duration": 8,
    "start_time": "2022-09-30T07:23:22.466Z"
   },
   {
    "duration": 5,
    "start_time": "2022-09-30T07:23:33.290Z"
   },
   {
    "duration": 3,
    "start_time": "2022-09-30T07:23:43.021Z"
   },
   {
    "duration": 5,
    "start_time": "2022-09-30T07:25:11.516Z"
   },
   {
    "duration": 5,
    "start_time": "2022-09-30T07:25:13.838Z"
   },
   {
    "duration": 83,
    "start_time": "2022-09-30T07:27:46.027Z"
   },
   {
    "duration": 104,
    "start_time": "2022-09-30T07:28:24.892Z"
   },
   {
    "duration": 1147,
    "start_time": "2022-09-30T07:28:46.143Z"
   },
   {
    "duration": 36,
    "start_time": "2022-09-30T07:28:47.292Z"
   },
   {
    "duration": 13,
    "start_time": "2022-09-30T07:28:47.330Z"
   },
   {
    "duration": 13,
    "start_time": "2022-09-30T07:28:47.345Z"
   },
   {
    "duration": 11,
    "start_time": "2022-09-30T07:28:47.360Z"
   },
   {
    "duration": 25,
    "start_time": "2022-09-30T07:28:47.373Z"
   },
   {
    "duration": 73,
    "start_time": "2022-09-30T07:28:47.400Z"
   },
   {
    "duration": 4,
    "start_time": "2022-09-30T07:28:47.475Z"
   },
   {
    "duration": 19,
    "start_time": "2022-09-30T07:28:47.480Z"
   },
   {
    "duration": 18,
    "start_time": "2022-09-30T07:28:47.501Z"
   },
   {
    "duration": 14,
    "start_time": "2022-09-30T07:28:47.520Z"
   },
   {
    "duration": 18,
    "start_time": "2022-09-30T07:28:47.536Z"
   },
   {
    "duration": 6,
    "start_time": "2022-09-30T07:28:47.556Z"
   },
   {
    "duration": 8,
    "start_time": "2022-09-30T07:28:47.564Z"
   },
   {
    "duration": 11,
    "start_time": "2022-09-30T07:28:47.574Z"
   },
   {
    "duration": 35,
    "start_time": "2022-09-30T07:28:47.587Z"
   },
   {
    "duration": 5,
    "start_time": "2022-09-30T07:28:47.623Z"
   },
   {
    "duration": 17,
    "start_time": "2022-09-30T07:28:47.629Z"
   },
   {
    "duration": 321,
    "start_time": "2022-09-30T07:28:47.648Z"
   },
   {
    "duration": 4,
    "start_time": "2022-09-30T07:28:47.970Z"
   },
   {
    "duration": 21,
    "start_time": "2022-09-30T07:28:47.976Z"
   },
   {
    "duration": 10,
    "start_time": "2022-09-30T07:28:47.998Z"
   },
   {
    "duration": 10,
    "start_time": "2022-09-30T07:28:48.010Z"
   },
   {
    "duration": 11,
    "start_time": "2022-09-30T07:28:48.022Z"
   },
   {
    "duration": 320,
    "start_time": "2022-09-30T07:28:48.035Z"
   },
   {
    "duration": 223,
    "start_time": "2022-09-30T07:28:48.357Z"
   },
   {
    "duration": 369,
    "start_time": "2022-09-30T07:28:48.583Z"
   },
   {
    "duration": 317,
    "start_time": "2022-09-30T07:28:48.958Z"
   },
   {
    "duration": 369,
    "start_time": "2022-09-30T07:28:49.277Z"
   },
   {
    "duration": 145,
    "start_time": "2022-09-30T07:28:49.648Z"
   },
   {
    "duration": 7,
    "start_time": "2022-09-30T07:28:49.795Z"
   },
   {
    "duration": 185,
    "start_time": "2022-09-30T07:28:49.804Z"
   },
   {
    "duration": 7,
    "start_time": "2022-09-30T07:28:49.991Z"
   },
   {
    "duration": 197,
    "start_time": "2022-09-30T07:28:50.000Z"
   },
   {
    "duration": 25,
    "start_time": "2022-09-30T07:28:50.199Z"
   },
   {
    "duration": 14,
    "start_time": "2022-09-30T07:28:50.226Z"
   },
   {
    "duration": 11,
    "start_time": "2022-09-30T07:28:50.242Z"
   },
   {
    "duration": 10,
    "start_time": "2022-09-30T07:28:50.255Z"
   },
   {
    "duration": 24,
    "start_time": "2022-09-30T07:28:50.267Z"
   },
   {
    "duration": 53,
    "start_time": "2022-09-30T07:28:50.293Z"
   },
   {
    "duration": 169,
    "start_time": "2022-09-30T07:29:54.506Z"
   },
   {
    "duration": 72,
    "start_time": "2022-09-30T07:31:09.594Z"
   },
   {
    "duration": 170,
    "start_time": "2022-09-30T07:31:17.937Z"
   },
   {
    "duration": 12,
    "start_time": "2022-09-30T07:32:56.317Z"
   },
   {
    "duration": 122,
    "start_time": "2022-09-30T07:34:31.818Z"
   },
   {
    "duration": 19,
    "start_time": "2022-09-30T07:35:14.575Z"
   },
   {
    "duration": 15,
    "start_time": "2022-09-30T07:35:57.138Z"
   },
   {
    "duration": 6,
    "start_time": "2022-09-30T07:38:44.718Z"
   },
   {
    "duration": 14,
    "start_time": "2022-09-30T07:40:19.442Z"
   },
   {
    "duration": 14,
    "start_time": "2022-09-30T07:42:39.665Z"
   },
   {
    "duration": 10,
    "start_time": "2022-09-30T07:50:10.491Z"
   },
   {
    "duration": 11,
    "start_time": "2022-09-30T07:50:30.849Z"
   },
   {
    "duration": 10,
    "start_time": "2022-09-30T07:56:10.236Z"
   },
   {
    "duration": 4,
    "start_time": "2022-09-30T07:56:15.510Z"
   },
   {
    "duration": 4,
    "start_time": "2022-09-30T07:56:23.559Z"
   },
   {
    "duration": 5,
    "start_time": "2022-09-30T07:56:47.624Z"
   },
   {
    "duration": 13,
    "start_time": "2022-09-30T07:57:17.134Z"
   },
   {
    "duration": 10,
    "start_time": "2022-09-30T07:57:38.582Z"
   },
   {
    "duration": 6,
    "start_time": "2022-09-30T07:57:53.121Z"
   },
   {
    "duration": 9,
    "start_time": "2022-09-30T07:58:07.626Z"
   },
   {
    "duration": 22,
    "start_time": "2022-09-30T07:58:09.818Z"
   },
   {
    "duration": 14,
    "start_time": "2022-09-30T07:58:27.012Z"
   },
   {
    "duration": 1102,
    "start_time": "2022-09-30T07:59:45.021Z"
   },
   {
    "duration": 36,
    "start_time": "2022-09-30T07:59:46.125Z"
   },
   {
    "duration": 12,
    "start_time": "2022-09-30T07:59:46.163Z"
   },
   {
    "duration": 13,
    "start_time": "2022-09-30T07:59:46.178Z"
   },
   {
    "duration": 12,
    "start_time": "2022-09-30T07:59:46.193Z"
   },
   {
    "duration": 20,
    "start_time": "2022-09-30T07:59:46.207Z"
   },
   {
    "duration": 56,
    "start_time": "2022-09-30T07:59:46.229Z"
   },
   {
    "duration": 4,
    "start_time": "2022-09-30T07:59:46.287Z"
   },
   {
    "duration": 24,
    "start_time": "2022-09-30T07:59:46.293Z"
   },
   {
    "duration": 20,
    "start_time": "2022-09-30T07:59:46.320Z"
   },
   {
    "duration": 17,
    "start_time": "2022-09-30T07:59:46.342Z"
   },
   {
    "duration": 17,
    "start_time": "2022-09-30T07:59:46.360Z"
   },
   {
    "duration": 19,
    "start_time": "2022-09-30T07:59:46.379Z"
   },
   {
    "duration": 7,
    "start_time": "2022-09-30T07:59:46.399Z"
   },
   {
    "duration": 15,
    "start_time": "2022-09-30T07:59:46.408Z"
   },
   {
    "duration": 21,
    "start_time": "2022-09-30T07:59:46.426Z"
   },
   {
    "duration": 12,
    "start_time": "2022-09-30T07:59:46.449Z"
   },
   {
    "duration": 19,
    "start_time": "2022-09-30T07:59:46.463Z"
   },
   {
    "duration": 296,
    "start_time": "2022-09-30T07:59:46.484Z"
   },
   {
    "duration": 5,
    "start_time": "2022-09-30T07:59:46.782Z"
   },
   {
    "duration": 6,
    "start_time": "2022-09-30T07:59:46.789Z"
   },
   {
    "duration": 5,
    "start_time": "2022-09-30T07:59:46.797Z"
   },
   {
    "duration": 5,
    "start_time": "2022-09-30T07:59:46.821Z"
   },
   {
    "duration": 10,
    "start_time": "2022-09-30T07:59:46.828Z"
   },
   {
    "duration": 320,
    "start_time": "2022-09-30T07:59:46.840Z"
   },
   {
    "duration": 240,
    "start_time": "2022-09-30T07:59:47.162Z"
   },
   {
    "duration": 354,
    "start_time": "2022-09-30T07:59:47.404Z"
   },
   {
    "duration": 252,
    "start_time": "2022-09-30T07:59:47.762Z"
   },
   {
    "duration": 326,
    "start_time": "2022-09-30T07:59:48.016Z"
   },
   {
    "duration": 146,
    "start_time": "2022-09-30T07:59:48.344Z"
   },
   {
    "duration": 6,
    "start_time": "2022-09-30T07:59:48.492Z"
   },
   {
    "duration": 21,
    "start_time": "2022-09-30T07:59:48.500Z"
   },
   {
    "duration": 149,
    "start_time": "2022-09-30T07:59:48.523Z"
   },
   {
    "duration": 5,
    "start_time": "2022-09-30T07:59:48.673Z"
   },
   {
    "duration": 181,
    "start_time": "2022-09-30T07:59:48.680Z"
   },
   {
    "duration": 17,
    "start_time": "2022-09-30T07:59:48.863Z"
   },
   {
    "duration": 19,
    "start_time": "2022-09-30T07:59:48.882Z"
   },
   {
    "duration": 19,
    "start_time": "2022-09-30T07:59:48.902Z"
   },
   {
    "duration": 12,
    "start_time": "2022-09-30T07:59:48.923Z"
   },
   {
    "duration": 29,
    "start_time": "2022-09-30T07:59:48.936Z"
   },
   {
    "duration": 20,
    "start_time": "2022-09-30T07:59:48.967Z"
   },
   {
    "duration": 10,
    "start_time": "2022-09-30T08:01:10.449Z"
   },
   {
    "duration": 1103,
    "start_time": "2022-09-30T08:01:17.073Z"
   },
   {
    "duration": 37,
    "start_time": "2022-09-30T08:01:18.178Z"
   },
   {
    "duration": 13,
    "start_time": "2022-09-30T08:01:18.217Z"
   },
   {
    "duration": 15,
    "start_time": "2022-09-30T08:01:18.233Z"
   },
   {
    "duration": 13,
    "start_time": "2022-09-30T08:01:18.249Z"
   },
   {
    "duration": 33,
    "start_time": "2022-09-30T08:01:18.264Z"
   },
   {
    "duration": 98,
    "start_time": "2022-09-30T08:01:18.300Z"
   },
   {
    "duration": 3,
    "start_time": "2022-09-30T08:01:18.400Z"
   },
   {
    "duration": 23,
    "start_time": "2022-09-30T08:01:18.404Z"
   },
   {
    "duration": 20,
    "start_time": "2022-09-30T08:01:18.430Z"
   },
   {
    "duration": 14,
    "start_time": "2022-09-30T08:01:18.452Z"
   },
   {
    "duration": 17,
    "start_time": "2022-09-30T08:01:18.467Z"
   },
   {
    "duration": 13,
    "start_time": "2022-09-30T08:01:18.486Z"
   },
   {
    "duration": 21,
    "start_time": "2022-09-30T08:01:18.501Z"
   },
   {
    "duration": 12,
    "start_time": "2022-09-30T08:01:18.524Z"
   },
   {
    "duration": 15,
    "start_time": "2022-09-30T08:01:18.538Z"
   },
   {
    "duration": 5,
    "start_time": "2022-09-30T08:01:18.555Z"
   },
   {
    "duration": 12,
    "start_time": "2022-09-30T08:01:18.562Z"
   },
   {
    "duration": 307,
    "start_time": "2022-09-30T08:01:18.576Z"
   },
   {
    "duration": 5,
    "start_time": "2022-09-30T08:01:18.885Z"
   },
   {
    "duration": 17,
    "start_time": "2022-09-30T08:01:18.892Z"
   },
   {
    "duration": 12,
    "start_time": "2022-09-30T08:01:18.910Z"
   },
   {
    "duration": 28,
    "start_time": "2022-09-30T08:01:18.924Z"
   },
   {
    "duration": 23,
    "start_time": "2022-09-30T08:01:18.954Z"
   },
   {
    "duration": 364,
    "start_time": "2022-09-30T08:01:18.980Z"
   },
   {
    "duration": 232,
    "start_time": "2022-09-30T08:01:19.345Z"
   },
   {
    "duration": 358,
    "start_time": "2022-09-30T08:01:19.580Z"
   },
   {
    "duration": 259,
    "start_time": "2022-09-30T08:01:19.942Z"
   },
   {
    "duration": 352,
    "start_time": "2022-09-30T08:01:20.203Z"
   },
   {
    "duration": 154,
    "start_time": "2022-09-30T08:01:20.557Z"
   },
   {
    "duration": 12,
    "start_time": "2022-09-30T08:01:20.712Z"
   },
   {
    "duration": 12,
    "start_time": "2022-09-30T08:01:20.726Z"
   },
   {
    "duration": 158,
    "start_time": "2022-09-30T08:01:20.739Z"
   },
   {
    "duration": 5,
    "start_time": "2022-09-30T08:01:20.899Z"
   },
   {
    "duration": 171,
    "start_time": "2022-09-30T08:01:20.905Z"
   },
   {
    "duration": 12,
    "start_time": "2022-09-30T08:01:21.078Z"
   },
   {
    "duration": 24,
    "start_time": "2022-09-30T08:01:21.092Z"
   },
   {
    "duration": 14,
    "start_time": "2022-09-30T08:01:21.120Z"
   },
   {
    "duration": 14,
    "start_time": "2022-09-30T08:01:21.135Z"
   },
   {
    "duration": 21,
    "start_time": "2022-09-30T08:01:21.151Z"
   },
   {
    "duration": 13,
    "start_time": "2022-09-30T08:01:21.174Z"
   },
   {
    "duration": 23,
    "start_time": "2022-09-30T08:03:51.574Z"
   },
   {
    "duration": 14,
    "start_time": "2022-09-30T08:05:24.220Z"
   },
   {
    "duration": 28,
    "start_time": "2022-09-30T08:05:26.468Z"
   },
   {
    "duration": 1197,
    "start_time": "2022-09-30T08:09:05.183Z"
   },
   {
    "duration": 39,
    "start_time": "2022-09-30T08:09:06.382Z"
   },
   {
    "duration": 13,
    "start_time": "2022-09-30T08:09:06.422Z"
   },
   {
    "duration": 13,
    "start_time": "2022-09-30T08:09:06.437Z"
   },
   {
    "duration": 13,
    "start_time": "2022-09-30T08:09:06.453Z"
   },
   {
    "duration": 12,
    "start_time": "2022-09-30T08:09:06.468Z"
   },
   {
    "duration": 57,
    "start_time": "2022-09-30T08:09:06.482Z"
   },
   {
    "duration": 3,
    "start_time": "2022-09-30T08:09:06.541Z"
   },
   {
    "duration": 21,
    "start_time": "2022-09-30T08:09:06.546Z"
   },
   {
    "duration": 30,
    "start_time": "2022-09-30T08:09:06.568Z"
   },
   {
    "duration": 14,
    "start_time": "2022-09-30T08:09:06.600Z"
   },
   {
    "duration": 25,
    "start_time": "2022-09-30T08:09:06.616Z"
   },
   {
    "duration": 6,
    "start_time": "2022-09-30T08:09:06.642Z"
   },
   {
    "duration": 4,
    "start_time": "2022-09-30T08:09:06.651Z"
   },
   {
    "duration": 23,
    "start_time": "2022-09-30T08:09:06.657Z"
   },
   {
    "duration": 10,
    "start_time": "2022-09-30T08:09:06.682Z"
   },
   {
    "duration": 5,
    "start_time": "2022-09-30T08:09:06.694Z"
   },
   {
    "duration": 48,
    "start_time": "2022-09-30T08:09:06.700Z"
   },
   {
    "duration": 326,
    "start_time": "2022-09-30T08:09:06.750Z"
   },
   {
    "duration": 4,
    "start_time": "2022-09-30T08:09:07.077Z"
   },
   {
    "duration": 7,
    "start_time": "2022-09-30T08:09:07.082Z"
   },
   {
    "duration": 6,
    "start_time": "2022-09-30T08:09:07.091Z"
   },
   {
    "duration": 23,
    "start_time": "2022-09-30T08:09:07.098Z"
   },
   {
    "duration": 6,
    "start_time": "2022-09-30T08:09:07.123Z"
   },
   {
    "duration": 311,
    "start_time": "2022-09-30T08:09:07.131Z"
   },
   {
    "duration": 235,
    "start_time": "2022-09-30T08:09:07.444Z"
   },
   {
    "duration": 381,
    "start_time": "2022-09-30T08:09:07.681Z"
   },
   {
    "duration": 276,
    "start_time": "2022-09-30T08:09:08.064Z"
   },
   {
    "duration": 322,
    "start_time": "2022-09-30T08:09:08.343Z"
   },
   {
    "duration": 155,
    "start_time": "2022-09-30T08:09:08.667Z"
   },
   {
    "duration": 6,
    "start_time": "2022-09-30T08:09:08.824Z"
   },
   {
    "duration": 260,
    "start_time": "2022-09-30T08:09:08.832Z"
   },
   {
    "duration": 7,
    "start_time": "2022-09-30T08:09:09.094Z"
   },
   {
    "duration": 224,
    "start_time": "2022-09-30T08:09:09.103Z"
   },
   {
    "duration": 12,
    "start_time": "2022-09-30T08:09:09.328Z"
   },
   {
    "duration": 21,
    "start_time": "2022-09-30T08:09:09.341Z"
   },
   {
    "duration": 32,
    "start_time": "2022-09-30T08:09:09.364Z"
   },
   {
    "duration": 30,
    "start_time": "2022-09-30T08:09:09.397Z"
   },
   {
    "duration": 38,
    "start_time": "2022-09-30T08:09:09.429Z"
   },
   {
    "duration": 17,
    "start_time": "2022-09-30T08:09:09.469Z"
   },
   {
    "duration": 5,
    "start_time": "2022-09-30T08:12:09.872Z"
   },
   {
    "duration": 4,
    "start_time": "2022-09-30T08:12:33.316Z"
   },
   {
    "duration": 5,
    "start_time": "2022-09-30T08:12:55.264Z"
   },
   {
    "duration": 5,
    "start_time": "2022-09-30T08:13:46.308Z"
   },
   {
    "duration": 5,
    "start_time": "2022-09-30T08:13:59.915Z"
   },
   {
    "duration": 10,
    "start_time": "2022-09-30T08:15:11.215Z"
   },
   {
    "duration": 1156,
    "start_time": "2022-09-30T08:15:36.218Z"
   },
   {
    "duration": 37,
    "start_time": "2022-09-30T08:15:37.376Z"
   },
   {
    "duration": 12,
    "start_time": "2022-09-30T08:15:37.415Z"
   },
   {
    "duration": 20,
    "start_time": "2022-09-30T08:15:37.428Z"
   },
   {
    "duration": 13,
    "start_time": "2022-09-30T08:15:37.451Z"
   },
   {
    "duration": 16,
    "start_time": "2022-09-30T08:15:37.465Z"
   },
   {
    "duration": 56,
    "start_time": "2022-09-30T08:15:37.483Z"
   },
   {
    "duration": 3,
    "start_time": "2022-09-30T08:15:37.541Z"
   },
   {
    "duration": 20,
    "start_time": "2022-09-30T08:15:37.545Z"
   },
   {
    "duration": 19,
    "start_time": "2022-09-30T08:15:37.566Z"
   },
   {
    "duration": 14,
    "start_time": "2022-09-30T08:15:37.586Z"
   },
   {
    "duration": 17,
    "start_time": "2022-09-30T08:15:37.602Z"
   },
   {
    "duration": 5,
    "start_time": "2022-09-30T08:15:37.621Z"
   },
   {
    "duration": 10,
    "start_time": "2022-09-30T08:15:37.629Z"
   },
   {
    "duration": 16,
    "start_time": "2022-09-30T08:15:37.640Z"
   },
   {
    "duration": 10,
    "start_time": "2022-09-30T08:15:37.657Z"
   },
   {
    "duration": 7,
    "start_time": "2022-09-30T08:15:37.669Z"
   },
   {
    "duration": 14,
    "start_time": "2022-09-30T08:15:37.677Z"
   },
   {
    "duration": 307,
    "start_time": "2022-09-30T08:15:37.693Z"
   },
   {
    "duration": 4,
    "start_time": "2022-09-30T08:15:38.001Z"
   },
   {
    "duration": 14,
    "start_time": "2022-09-30T08:15:38.006Z"
   },
   {
    "duration": 24,
    "start_time": "2022-09-30T08:15:38.021Z"
   },
   {
    "duration": 26,
    "start_time": "2022-09-30T08:15:38.047Z"
   },
   {
    "duration": 11,
    "start_time": "2022-09-30T08:15:38.076Z"
   },
   {
    "duration": 314,
    "start_time": "2022-09-30T08:15:38.089Z"
   },
   {
    "duration": 237,
    "start_time": "2022-09-30T08:15:38.405Z"
   },
   {
    "duration": 333,
    "start_time": "2022-09-30T08:15:38.643Z"
   },
   {
    "duration": 277,
    "start_time": "2022-09-30T08:15:38.978Z"
   },
   {
    "duration": 292,
    "start_time": "2022-09-30T08:15:39.257Z"
   },
   {
    "duration": 146,
    "start_time": "2022-09-30T08:15:39.551Z"
   },
   {
    "duration": 5,
    "start_time": "2022-09-30T08:15:39.699Z"
   },
   {
    "duration": 16,
    "start_time": "2022-09-30T08:15:39.706Z"
   },
   {
    "duration": 190,
    "start_time": "2022-09-30T08:15:39.724Z"
   },
   {
    "duration": 5,
    "start_time": "2022-09-30T08:15:39.916Z"
   },
   {
    "duration": 8,
    "start_time": "2022-09-30T08:15:39.923Z"
   },
   {
    "duration": 173,
    "start_time": "2022-09-30T08:15:39.933Z"
   },
   {
    "duration": 17,
    "start_time": "2022-09-30T08:15:40.108Z"
   },
   {
    "duration": 10,
    "start_time": "2022-09-30T08:15:40.127Z"
   },
   {
    "duration": 14,
    "start_time": "2022-09-30T08:15:40.138Z"
   },
   {
    "duration": 22,
    "start_time": "2022-09-30T08:15:40.153Z"
   },
   {
    "duration": 23,
    "start_time": "2022-09-30T08:15:40.178Z"
   },
   {
    "duration": 25,
    "start_time": "2022-09-30T08:15:40.203Z"
   },
   {
    "duration": 1201,
    "start_time": "2022-09-30T08:16:27.820Z"
   },
   {
    "duration": 40,
    "start_time": "2022-09-30T08:16:29.023Z"
   },
   {
    "duration": 15,
    "start_time": "2022-09-30T08:16:29.066Z"
   },
   {
    "duration": 18,
    "start_time": "2022-09-30T08:16:29.084Z"
   },
   {
    "duration": 42,
    "start_time": "2022-09-30T08:16:29.107Z"
   },
   {
    "duration": 29,
    "start_time": "2022-09-30T08:16:29.152Z"
   },
   {
    "duration": 72,
    "start_time": "2022-09-30T08:16:29.184Z"
   },
   {
    "duration": 4,
    "start_time": "2022-09-30T08:16:29.258Z"
   },
   {
    "duration": 35,
    "start_time": "2022-09-30T08:16:29.265Z"
   },
   {
    "duration": 28,
    "start_time": "2022-09-30T08:16:29.303Z"
   },
   {
    "duration": 21,
    "start_time": "2022-09-30T08:16:29.334Z"
   },
   {
    "duration": 18,
    "start_time": "2022-09-30T08:16:29.357Z"
   },
   {
    "duration": 10,
    "start_time": "2022-09-30T08:16:29.377Z"
   },
   {
    "duration": 17,
    "start_time": "2022-09-30T08:16:29.390Z"
   },
   {
    "duration": 11,
    "start_time": "2022-09-30T08:16:29.409Z"
   },
   {
    "duration": 26,
    "start_time": "2022-09-30T08:16:29.422Z"
   },
   {
    "duration": 12,
    "start_time": "2022-09-30T08:16:29.450Z"
   },
   {
    "duration": 15,
    "start_time": "2022-09-30T08:16:29.464Z"
   },
   {
    "duration": 310,
    "start_time": "2022-09-30T08:16:29.481Z"
   },
   {
    "duration": 4,
    "start_time": "2022-09-30T08:16:29.792Z"
   },
   {
    "duration": 14,
    "start_time": "2022-09-30T08:16:29.797Z"
   },
   {
    "duration": 32,
    "start_time": "2022-09-30T08:16:29.812Z"
   },
   {
    "duration": 11,
    "start_time": "2022-09-30T08:16:29.846Z"
   },
   {
    "duration": 38,
    "start_time": "2022-09-30T08:16:29.860Z"
   },
   {
    "duration": 324,
    "start_time": "2022-09-30T08:16:29.900Z"
   },
   {
    "duration": 230,
    "start_time": "2022-09-30T08:16:30.226Z"
   },
   {
    "duration": 309,
    "start_time": "2022-09-30T08:16:30.458Z"
   },
   {
    "duration": 254,
    "start_time": "2022-09-30T08:16:30.769Z"
   },
   {
    "duration": 335,
    "start_time": "2022-09-30T08:16:31.025Z"
   },
   {
    "duration": 174,
    "start_time": "2022-09-30T08:16:31.363Z"
   },
   {
    "duration": 5,
    "start_time": "2022-09-30T08:16:31.539Z"
   },
   {
    "duration": 10,
    "start_time": "2022-09-30T08:16:31.546Z"
   },
   {
    "duration": 171,
    "start_time": "2022-09-30T08:16:31.557Z"
   },
   {
    "duration": 5,
    "start_time": "2022-09-30T08:16:31.730Z"
   },
   {
    "duration": 48,
    "start_time": "2022-09-30T08:16:31.736Z"
   },
   {
    "duration": 181,
    "start_time": "2022-09-30T08:16:31.786Z"
   },
   {
    "duration": 12,
    "start_time": "2022-09-30T08:16:31.968Z"
   },
   {
    "duration": 15,
    "start_time": "2022-09-30T08:16:31.982Z"
   },
   {
    "duration": 23,
    "start_time": "2022-09-30T08:16:31.999Z"
   },
   {
    "duration": 20,
    "start_time": "2022-09-30T08:16:32.024Z"
   },
   {
    "duration": 45,
    "start_time": "2022-09-30T08:16:32.048Z"
   },
   {
    "duration": 14,
    "start_time": "2022-09-30T08:16:32.094Z"
   },
   {
    "duration": 1093,
    "start_time": "2022-09-30T08:17:25.878Z"
   },
   {
    "duration": 51,
    "start_time": "2022-09-30T08:17:26.972Z"
   },
   {
    "duration": 15,
    "start_time": "2022-09-30T08:17:27.025Z"
   },
   {
    "duration": 15,
    "start_time": "2022-09-30T08:17:27.042Z"
   },
   {
    "duration": 12,
    "start_time": "2022-09-30T08:17:27.059Z"
   },
   {
    "duration": 12,
    "start_time": "2022-09-30T08:17:27.073Z"
   },
   {
    "duration": 74,
    "start_time": "2022-09-30T08:17:27.087Z"
   },
   {
    "duration": 4,
    "start_time": "2022-09-30T08:17:27.163Z"
   },
   {
    "duration": 23,
    "start_time": "2022-09-30T08:17:27.168Z"
   },
   {
    "duration": 18,
    "start_time": "2022-09-30T08:17:27.193Z"
   },
   {
    "duration": 14,
    "start_time": "2022-09-30T08:17:27.213Z"
   },
   {
    "duration": 13,
    "start_time": "2022-09-30T08:17:27.229Z"
   },
   {
    "duration": 5,
    "start_time": "2022-09-30T08:17:27.244Z"
   },
   {
    "duration": 18,
    "start_time": "2022-09-30T08:17:27.251Z"
   },
   {
    "duration": 9,
    "start_time": "2022-09-30T08:17:27.271Z"
   },
   {
    "duration": 13,
    "start_time": "2022-09-30T08:17:27.282Z"
   },
   {
    "duration": 11,
    "start_time": "2022-09-30T08:17:27.296Z"
   },
   {
    "duration": 13,
    "start_time": "2022-09-30T08:17:27.309Z"
   },
   {
    "duration": 297,
    "start_time": "2022-09-30T08:17:27.324Z"
   },
   {
    "duration": 4,
    "start_time": "2022-09-30T08:17:27.623Z"
   },
   {
    "duration": 10,
    "start_time": "2022-09-30T08:17:27.628Z"
   },
   {
    "duration": 10,
    "start_time": "2022-09-30T08:17:27.639Z"
   },
   {
    "duration": 9,
    "start_time": "2022-09-30T08:17:27.650Z"
   },
   {
    "duration": 9,
    "start_time": "2022-09-30T08:17:27.661Z"
   },
   {
    "duration": 323,
    "start_time": "2022-09-30T08:17:27.671Z"
   },
   {
    "duration": 234,
    "start_time": "2022-09-30T08:17:27.995Z"
   },
   {
    "duration": 322,
    "start_time": "2022-09-30T08:17:28.231Z"
   },
   {
    "duration": 245,
    "start_time": "2022-09-30T08:17:28.556Z"
   },
   {
    "duration": 389,
    "start_time": "2022-09-30T08:17:28.803Z"
   },
   {
    "duration": 146,
    "start_time": "2022-09-30T08:17:29.195Z"
   },
   {
    "duration": 6,
    "start_time": "2022-09-30T08:17:29.344Z"
   },
   {
    "duration": 16,
    "start_time": "2022-09-30T08:17:29.352Z"
   },
   {
    "duration": 155,
    "start_time": "2022-09-30T08:17:29.370Z"
   },
   {
    "duration": 5,
    "start_time": "2022-09-30T08:17:29.527Z"
   },
   {
    "duration": 19,
    "start_time": "2022-09-30T08:17:29.533Z"
   },
   {
    "duration": 167,
    "start_time": "2022-09-30T08:17:29.554Z"
   },
   {
    "duration": 12,
    "start_time": "2022-09-30T08:17:29.723Z"
   },
   {
    "duration": 11,
    "start_time": "2022-09-30T08:17:29.737Z"
   },
   {
    "duration": 10,
    "start_time": "2022-09-30T08:17:29.750Z"
   },
   {
    "duration": 14,
    "start_time": "2022-09-30T08:17:29.761Z"
   },
   {
    "duration": 44,
    "start_time": "2022-09-30T08:17:29.776Z"
   },
   {
    "duration": 18,
    "start_time": "2022-09-30T08:17:29.822Z"
   },
   {
    "duration": 3,
    "start_time": "2022-09-30T08:18:06.122Z"
   },
   {
    "duration": 1120,
    "start_time": "2022-09-30T08:18:31.012Z"
   },
   {
    "duration": 38,
    "start_time": "2022-09-30T08:18:32.134Z"
   },
   {
    "duration": 13,
    "start_time": "2022-09-30T08:18:32.174Z"
   },
   {
    "duration": 22,
    "start_time": "2022-09-30T08:18:32.189Z"
   },
   {
    "duration": 32,
    "start_time": "2022-09-30T08:18:32.213Z"
   },
   {
    "duration": 34,
    "start_time": "2022-09-30T08:18:32.247Z"
   },
   {
    "duration": 63,
    "start_time": "2022-09-30T08:18:32.283Z"
   },
   {
    "duration": 4,
    "start_time": "2022-09-30T08:18:32.347Z"
   },
   {
    "duration": 29,
    "start_time": "2022-09-30T08:18:32.352Z"
   },
   {
    "duration": 40,
    "start_time": "2022-09-30T08:18:32.382Z"
   },
   {
    "duration": 57,
    "start_time": "2022-09-30T08:18:32.424Z"
   },
   {
    "duration": 27,
    "start_time": "2022-09-30T08:18:32.483Z"
   },
   {
    "duration": 30,
    "start_time": "2022-09-30T08:18:32.512Z"
   },
   {
    "duration": 25,
    "start_time": "2022-09-30T08:18:32.545Z"
   },
   {
    "duration": 33,
    "start_time": "2022-09-30T08:18:32.572Z"
   },
   {
    "duration": 40,
    "start_time": "2022-09-30T08:18:32.607Z"
   },
   {
    "duration": 33,
    "start_time": "2022-09-30T08:18:32.649Z"
   },
   {
    "duration": 52,
    "start_time": "2022-09-30T08:18:32.684Z"
   },
   {
    "duration": 332,
    "start_time": "2022-09-30T08:18:32.737Z"
   },
   {
    "duration": 4,
    "start_time": "2022-09-30T08:18:33.071Z"
   },
   {
    "duration": 24,
    "start_time": "2022-09-30T08:18:33.078Z"
   },
   {
    "duration": 13,
    "start_time": "2022-09-30T08:18:33.104Z"
   },
   {
    "duration": 15,
    "start_time": "2022-09-30T08:18:33.119Z"
   },
   {
    "duration": 26,
    "start_time": "2022-09-30T08:18:33.136Z"
   },
   {
    "duration": 334,
    "start_time": "2022-09-30T08:18:33.165Z"
   },
   {
    "duration": 223,
    "start_time": "2022-09-30T08:18:33.500Z"
   },
   {
    "duration": 321,
    "start_time": "2022-09-30T08:18:33.724Z"
   },
   {
    "duration": 256,
    "start_time": "2022-09-30T08:18:34.046Z"
   },
   {
    "duration": 331,
    "start_time": "2022-09-30T08:18:34.303Z"
   },
   {
    "duration": 145,
    "start_time": "2022-09-30T08:18:34.635Z"
   },
   {
    "duration": 5,
    "start_time": "2022-09-30T08:18:34.782Z"
   },
   {
    "duration": 55,
    "start_time": "2022-09-30T08:18:34.788Z"
   },
   {
    "duration": 194,
    "start_time": "2022-09-30T08:18:34.845Z"
   },
   {
    "duration": 6,
    "start_time": "2022-09-30T08:18:35.042Z"
   },
   {
    "duration": 22,
    "start_time": "2022-09-30T08:18:35.051Z"
   },
   {
    "duration": 195,
    "start_time": "2022-09-30T08:18:35.074Z"
   },
   {
    "duration": 10,
    "start_time": "2022-09-30T08:18:35.271Z"
   },
   {
    "duration": 31,
    "start_time": "2022-09-30T08:18:35.283Z"
   },
   {
    "duration": 28,
    "start_time": "2022-09-30T08:18:35.316Z"
   },
   {
    "duration": 24,
    "start_time": "2022-09-30T08:18:35.345Z"
   },
   {
    "duration": 44,
    "start_time": "2022-09-30T08:18:35.373Z"
   },
   {
    "duration": 24,
    "start_time": "2022-09-30T08:18:35.419Z"
   },
   {
    "duration": 64,
    "start_time": "2022-09-30T08:22:54.028Z"
   }
  ],
  "kernelspec": {
   "display_name": "Python 3 (ipykernel)",
   "language": "python",
   "name": "python3"
  },
  "language_info": {
   "codemirror_mode": {
    "name": "ipython",
    "version": 3
   },
   "file_extension": ".py",
   "mimetype": "text/x-python",
   "name": "python",
   "nbconvert_exporter": "python",
   "pygments_lexer": "ipython3",
   "version": "3.9.12"
  },
  "toc": {
   "base_numbering": 1,
   "nav_menu": {
    "height": "112px",
    "width": "214px"
   },
   "number_sections": true,
   "sideBar": true,
   "skip_h1_title": true,
   "title_cell": "Table of Contents",
   "title_sidebar": "Contents",
   "toc_cell": false,
   "toc_position": {
    "height": "calc(100% - 180px)",
    "left": "10px",
    "top": "150px",
    "width": "165px"
   },
   "toc_section_display": true,
   "toc_window_display": true
  }
 },
 "nbformat": 4,
 "nbformat_minor": 2
}
